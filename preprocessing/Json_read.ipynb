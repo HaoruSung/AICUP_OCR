{
 "cells": [
  {
   "cell_type": "code",
   "execution_count": 4,
   "id": "8ee9b205",
   "metadata": {
    "scrolled": true
   },
   "outputs": [
    {
     "name": "stderr",
     "output_type": "stream",
     "text": [
      "/home/mark/Desktop/py3.7/cv/paddleOCR/lib/python3.7/site-packages/pandas/compat/__init__.py:124: UserWarning: Could not import the lzma module. Your installed Python is incomplete. Attempting to use lzma compression will result in a RuntimeError.\n",
      "  warnings.warn(msg)\n"
     ]
    }
   ],
   "source": [
    "import os\n",
    "import json\n",
    "import re\n",
    "import pandas as pd\n",
    "from util import text_classify,sep_pts\n",
    "# import package\n",
    "#{\"None\":0,\"zh_char\":1,\"zh_str\":2,\"en\":3,\"zh_en\":4}"
   ]
  },
  {
   "cell_type": "code",
   "execution_count": 5,
   "id": "4cbaee4e",
   "metadata": {},
   "outputs": [],
   "source": [
    "#directory must contain train/json\n",
    "dataset_path = \"/home/mark/Desktop/py3.7/cv/datasets/ai_cup_f/\"\n",
    "my_path =dataset_path+\"/train/\""
   ]
  },
  {
   "cell_type": "code",
   "execution_count": 5,
   "id": "857b9091",
   "metadata": {
    "scrolled": true
   },
   "outputs": [
    {
     "data": {
      "text/plain": [
       "['json', 'lsvt']"
      ]
     },
     "execution_count": 5,
     "metadata": {},
     "output_type": "execute_result"
    }
   ],
   "source": [
    "files = os.listdir(my_path)#load filepath to variable\n",
    "files[:2]#display first two"
   ]
  },
  {
   "cell_type": "code",
   "execution_count": 4,
   "id": "3fab4377",
   "metadata": {},
   "outputs": [],
   "source": [
    "# #extract useful info\n",
    "# ids = []\n",
    "# labels = []\n",
    "# points = []\n",
    "# img_name = []\n",
    "# for file in files:#read top 10 files\n",
    "#     #read file\n",
    "#     with open(my_path+file,'r',encoding='utf-8') as f:\n",
    "#         d = json.load(f)\n",
    "#         #print(d[\"shapes\"])\n",
    "#         for elem in (d[\"shapes\"]):#looping thru json\n",
    "#             img_name.append(file[:-5])\n",
    "#             ids.append(elem[\"group_id\"])\n",
    "#             labels.append(elem[\"label\"])\n",
    "#             points.append(elem[\"points\"])"
   ]
  },
  {
   "cell_type": "code",
   "execution_count": 6,
   "id": "931daa4b",
   "metadata": {
    "scrolled": true
   },
   "outputs": [
    {
     "name": "stdout",
     "output_type": "stream",
     "text": [
      "[{'transcription': '一站式购物中心', 'points': [[45, 272], [215, 273], [212, 296], [45, 290]], 'illegibility': False}, {'transcription': '母婴百汇', 'points': [[33, 325], [204, 328], [202, 363], [31, 357]], 'illegibility': False}, {'transcription': 'TEL:', 'points': [[25, 359], [71, 364], [70, 385], [25, 382]], 'illegibility': False}, {'transcription': '8168886', 'points': [[72, 362], [197, 365], [197, 388], [72, 384]], 'illegibility': False}, {'transcription': '###', 'points': [[5, 394], [212, 409], [209, 435], [7, 423]], 'illegibility': True}, {'transcription': '方', 'points': [[649, 317], [665, 317], [662, 331], [648, 331]], 'illegibility': False}, {'transcription': '俊', 'points': [[648, 338], [663, 338], [661, 350], [648, 349]], 'illegibility': False}, {'transcription': '礼', 'points': [[646, 355], [658, 355], [660, 370], [644, 370]], 'illegibility': False}, {'transcription': '胡', 'points': [[677, 312], [692, 312], [690, 333], [676, 334]], 'illegibility': False}, {'transcription': '辣', 'points': [[689, 329], [703, 325], [705, 349], [686, 347]], 'illegibility': False}, {'transcription': '汤', 'points': [[683, 349], [699, 349], [695, 366], [680, 367]], 'illegibility': False}, {'transcription': '###', 'points': [[635, 459], [802, 467], [797, 488], [634, 479]], 'illegibility': True}, {'transcription': '转让', 'points': [[556, 517], [575, 517], [575, 525], [555, 526]], 'illegibility': False}, {'transcription': '###', 'points': [[555, 527], [576, 527], [575, 533], [554, 533]], 'illegibility': True}, {'transcription': '转让', 'points': [[466, 512], [514, 516], [511, 539], [461, 537]], 'illegibility': False}, {'transcription': '现有门面房三间', 'points': [[458, 541], [519, 545], [517, 555], [458, 549]], 'illegibility': False}, {'transcription': '现需整体转让', 'points': [[460, 552], [513, 555], [512, 562], [460, 560]], 'illegibility': False}, {'transcription': '有意者请联系', 'points': [[457, 562], [513, 566], [511, 574], [456, 570]], 'illegibility': False}, {'transcription': '电话：', 'points': [[448, 573], [466, 573], [466, 580], [444, 580]], 'illegibility': False}, {'transcription': '###', 'points': [[469, 573], [515, 575], [515, 585], [470, 581]], 'illegibility': True}, {'transcription': 'KIA', 'points': [[143, 628], [159, 628], [156, 638], [142, 636]], 'illegibility': False}, {'transcription': '###', 'points': [[95, 660], [105, 661], [102, 673], [94, 670]], 'illegibility': True}, {'transcription': '###', 'points': [[186, 678], [214, 680], [210, 690], [185, 687]], 'illegibility': True}, {'transcription': '一汽·大众', 'points': [[297, 727], [325, 731], [321, 743], [293, 737]], 'illegibility': False}, {'transcription': '###', 'points': [[443, 762], [485, 771], [480, 778], [441, 770]], 'illegibility': True}, {'transcription': '###', 'points': [[449, 774], [479, 780], [476, 788], [447, 782]], 'illegibility': True}, {'transcription': '方俊礼', 'points': [[345, 302], [594, 306], [591, 368], [339, 356]], 'illegibility': False}, {'transcription': '胡辣汤', 'points': [[764, 313], [1075, 316], [1057, 383], [757, 374]], 'illegibility': False}, {'transcription': '彩凤早餐店 项城分店 加盟电话：18839429666', 'points': [[866, 379], [1175, 389], [1170, 415], [863, 398]], 'illegibility': False}, {'transcription': '###', 'points': [[910, 625], [938, 628], [937, 642], [914, 639]], 'illegibility': True}]\n"
     ]
    }
   ],
   "source": [
    "labels = []\n",
    "points = []\n",
    "img_name = []\n",
    "with open(my_path+\"lsvt.json\",'r',encoding='utf-8') as f:\n",
    "    d = json.load(f)\n",
    "    for elem in (d):#looping thru json\n",
    "        print(d[elem])\n",
    "        break\n",
    "#         for elem1 in d[elem]:\n",
    "#             img_name.append(elem)\n",
    "#             labels.append(elem1[\"transcription\"])\n",
    "#             points.append(elem1[\"points\"])"
   ]
  },
  {
   "cell_type": "code",
   "execution_count": 26,
   "id": "84c224b2",
   "metadata": {},
   "outputs": [
    {
     "data": {
      "text/plain": [
       "30000"
      ]
     },
     "execution_count": 26,
     "metadata": {},
     "output_type": "execute_result"
    }
   ],
   "source": [
    "len(set(img_name))"
   ]
  },
  {
   "cell_type": "code",
   "execution_count": 11,
   "id": "d9492e9e",
   "metadata": {
    "collapsed": true
   },
   "outputs": [
    {
     "ename": "NameError",
     "evalue": "name 'ids' is not defined",
     "output_type": "error",
     "traceback": [
      "\u001b[0;31m---------------------------------------------------------------------------\u001b[0m",
      "\u001b[0;31mNameError\u001b[0m                                 Traceback (most recent call last)",
      "\u001b[0;32m/tmp/ipykernel_21149/613443536.py\u001b[0m in \u001b[0;36m<module>\u001b[0;34m\u001b[0m\n\u001b[0;32m----> 1\u001b[0;31m \u001b[0mprint\u001b[0m\u001b[0;34m(\u001b[0m\u001b[0mset\u001b[0m\u001b[0;34m(\u001b[0m\u001b[0mids\u001b[0m\u001b[0;34m)\u001b[0m\u001b[0;34m)\u001b[0m\u001b[0;31m# 7 classes\u001b[0m\u001b[0;34m\u001b[0m\u001b[0;34m\u001b[0m\u001b[0m\n\u001b[0m",
      "\u001b[0;31mNameError\u001b[0m: name 'ids' is not defined"
     ]
    }
   ],
   "source": [
    "#print(set(ids))# 7 classes"
   ]
  },
  {
   "cell_type": "code",
   "execution_count": 6,
   "id": "5abdafc4",
   "metadata": {},
   "outputs": [],
   "source": [
    "# new_ids=[]#declare new id_var for classification\n",
    "# for elem in labels:\n",
    "#     new_ids.append(text_classify(elem))"
   ]
  },
  {
   "cell_type": "code",
   "execution_count": 27,
   "id": "6978efb6",
   "metadata": {},
   "outputs": [],
   "source": [
    "pt1,pt2,pt3,pt4,pt5,pt6,pt7,pt8 = sep_pts(points)#sep points to 8 list"
   ]
  },
  {
   "cell_type": "code",
   "execution_count": 29,
   "id": "3c6b5bed",
   "metadata": {},
   "outputs": [
    {
     "data": {
      "text/html": [
       "<div>\n",
       "<style scoped>\n",
       "    .dataframe tbody tr th:only-of-type {\n",
       "        vertical-align: middle;\n",
       "    }\n",
       "\n",
       "    .dataframe tbody tr th {\n",
       "        vertical-align: top;\n",
       "    }\n",
       "\n",
       "    .dataframe thead th {\n",
       "        text-align: right;\n",
       "    }\n",
       "</style>\n",
       "<table border=\"1\" class=\"dataframe\">\n",
       "  <thead>\n",
       "    <tr style=\"text-align: right;\">\n",
       "      <th></th>\n",
       "      <th>imgs</th>\n",
       "      <th>pt1</th>\n",
       "      <th>pt2</th>\n",
       "      <th>pt3</th>\n",
       "      <th>pt4</th>\n",
       "      <th>pt5</th>\n",
       "      <th>pt6</th>\n",
       "      <th>pt7</th>\n",
       "      <th>pt8</th>\n",
       "      <th>labels</th>\n",
       "    </tr>\n",
       "  </thead>\n",
       "  <tbody>\n",
       "    <tr>\n",
       "      <th>0</th>\n",
       "      <td>gt_1234</td>\n",
       "      <td>45</td>\n",
       "      <td>272</td>\n",
       "      <td>215</td>\n",
       "      <td>273</td>\n",
       "      <td>212</td>\n",
       "      <td>296</td>\n",
       "      <td>45</td>\n",
       "      <td>290</td>\n",
       "      <td>一站式购物中心</td>\n",
       "    </tr>\n",
       "    <tr>\n",
       "      <th>1</th>\n",
       "      <td>gt_1234</td>\n",
       "      <td>33</td>\n",
       "      <td>325</td>\n",
       "      <td>204</td>\n",
       "      <td>328</td>\n",
       "      <td>202</td>\n",
       "      <td>363</td>\n",
       "      <td>31</td>\n",
       "      <td>357</td>\n",
       "      <td>母婴百汇</td>\n",
       "    </tr>\n",
       "    <tr>\n",
       "      <th>2</th>\n",
       "      <td>gt_1234</td>\n",
       "      <td>25</td>\n",
       "      <td>359</td>\n",
       "      <td>71</td>\n",
       "      <td>364</td>\n",
       "      <td>70</td>\n",
       "      <td>385</td>\n",
       "      <td>25</td>\n",
       "      <td>382</td>\n",
       "      <td>TEL:</td>\n",
       "    </tr>\n",
       "    <tr>\n",
       "      <th>3</th>\n",
       "      <td>gt_1234</td>\n",
       "      <td>72</td>\n",
       "      <td>362</td>\n",
       "      <td>197</td>\n",
       "      <td>365</td>\n",
       "      <td>197</td>\n",
       "      <td>388</td>\n",
       "      <td>72</td>\n",
       "      <td>384</td>\n",
       "      <td>8168886</td>\n",
       "    </tr>\n",
       "    <tr>\n",
       "      <th>4</th>\n",
       "      <td>gt_1234</td>\n",
       "      <td>5</td>\n",
       "      <td>394</td>\n",
       "      <td>212</td>\n",
       "      <td>409</td>\n",
       "      <td>209</td>\n",
       "      <td>435</td>\n",
       "      <td>7</td>\n",
       "      <td>423</td>\n",
       "      <td>###</td>\n",
       "    </tr>\n",
       "  </tbody>\n",
       "</table>\n",
       "</div>"
      ],
      "text/plain": [
       "      imgs  pt1  pt2  pt3  pt4  pt5  pt6  pt7  pt8   labels\n",
       "0  gt_1234   45  272  215  273  212  296   45  290  一站式购物中心\n",
       "1  gt_1234   33  325  204  328  202  363   31  357     母婴百汇\n",
       "2  gt_1234   25  359   71  364   70  385   25  382     TEL:\n",
       "3  gt_1234   72  362  197  365  197  388   72  384  8168886\n",
       "4  gt_1234    5  394  212  409  209  435    7  423      ###"
      ]
     },
     "execution_count": 29,
     "metadata": {},
     "output_type": "execute_result"
    }
   ],
   "source": [
    "#declare dataframe\n",
    "df = pd.DataFrame({\"imgs\":img_name,\"pt1\":pt1,\"pt2\":pt2,\n",
    "                   \"pt3\":pt3,\"pt4\":pt4,\"pt5\":pt5,\"pt6\":pt6,\"pt7\":pt7,\"pt8\":pt8,\n",
    "                   \"labels\":labels})\n",
    "df.head()"
   ]
  },
  {
   "cell_type": "code",
   "execution_count": 9,
   "id": "302655d9",
   "metadata": {},
   "outputs": [
    {
     "data": {
      "text/html": [
       "<div>\n",
       "<style scoped>\n",
       "    .dataframe tbody tr th:only-of-type {\n",
       "        vertical-align: middle;\n",
       "    }\n",
       "\n",
       "    .dataframe tbody tr th {\n",
       "        vertical-align: top;\n",
       "    }\n",
       "\n",
       "    .dataframe thead th {\n",
       "        text-align: right;\n",
       "    }\n",
       "</style>\n",
       "<table border=\"1\" class=\"dataframe\">\n",
       "  <thead>\n",
       "    <tr style=\"text-align: right;\">\n",
       "      <th></th>\n",
       "      <th>imgs</th>\n",
       "      <th>ids</th>\n",
       "      <th>pt1</th>\n",
       "      <th>pt2</th>\n",
       "      <th>pt3</th>\n",
       "      <th>pt4</th>\n",
       "      <th>pt5</th>\n",
       "      <th>pt6</th>\n",
       "      <th>pt7</th>\n",
       "      <th>pt8</th>\n",
       "      <th>labels</th>\n",
       "    </tr>\n",
       "  </thead>\n",
       "  <tbody>\n",
       "    <tr>\n",
       "      <th>7</th>\n",
       "      <td>img_7818</td>\n",
       "      <td>2</td>\n",
       "      <td>265</td>\n",
       "      <td>1106</td>\n",
       "      <td>904</td>\n",
       "      <td>1074</td>\n",
       "      <td>908</td>\n",
       "      <td>1186</td>\n",
       "      <td>256</td>\n",
       "      <td>1206</td>\n",
       "      <td>多多選物販賣機</td>\n",
       "    </tr>\n",
       "    <tr>\n",
       "      <th>13</th>\n",
       "      <td>img_11576</td>\n",
       "      <td>2</td>\n",
       "      <td>130</td>\n",
       "      <td>726</td>\n",
       "      <td>628</td>\n",
       "      <td>711</td>\n",
       "      <td>591</td>\n",
       "      <td>875</td>\n",
       "      <td>87</td>\n",
       "      <td>885</td>\n",
       "      <td>樂雅樂</td>\n",
       "    </tr>\n",
       "    <tr>\n",
       "      <th>14</th>\n",
       "      <td>img_11576</td>\n",
       "      <td>2</td>\n",
       "      <td>619</td>\n",
       "      <td>771</td>\n",
       "      <td>1033</td>\n",
       "      <td>753</td>\n",
       "      <td>1015</td>\n",
       "      <td>862</td>\n",
       "      <td>597</td>\n",
       "      <td>870</td>\n",
       "      <td>家庭餐廳</td>\n",
       "    </tr>\n",
       "    <tr>\n",
       "      <th>21</th>\n",
       "      <td>img_3260</td>\n",
       "      <td>2</td>\n",
       "      <td>80</td>\n",
       "      <td>383</td>\n",
       "      <td>225</td>\n",
       "      <td>374</td>\n",
       "      <td>227</td>\n",
       "      <td>669</td>\n",
       "      <td>68</td>\n",
       "      <td>661</td>\n",
       "      <td>日式</td>\n",
       "    </tr>\n",
       "    <tr>\n",
       "      <th>22</th>\n",
       "      <td>img_3260</td>\n",
       "      <td>4</td>\n",
       "      <td>138</td>\n",
       "      <td>1</td>\n",
       "      <td>373</td>\n",
       "      <td>0</td>\n",
       "      <td>376</td>\n",
       "      <td>372</td>\n",
       "      <td>135</td>\n",
       "      <td>361</td>\n",
       "      <td>###裁</td>\n",
       "    </tr>\n",
       "    <tr>\n",
       "      <th>...</th>\n",
       "      <td>...</td>\n",
       "      <td>...</td>\n",
       "      <td>...</td>\n",
       "      <td>...</td>\n",
       "      <td>...</td>\n",
       "      <td>...</td>\n",
       "      <td>...</td>\n",
       "      <td>...</td>\n",
       "      <td>...</td>\n",
       "      <td>...</td>\n",
       "      <td>...</td>\n",
       "    </tr>\n",
       "    <tr>\n",
       "      <th>303389</th>\n",
       "      <td>img_11082</td>\n",
       "      <td>2</td>\n",
       "      <td>476</td>\n",
       "      <td>269</td>\n",
       "      <td>1476</td>\n",
       "      <td>223</td>\n",
       "      <td>1501</td>\n",
       "      <td>427</td>\n",
       "      <td>449</td>\n",
       "      <td>466</td>\n",
       "      <td>小吉咖哩</td>\n",
       "    </tr>\n",
       "    <tr>\n",
       "      <th>303390</th>\n",
       "      <td>img_11082</td>\n",
       "      <td>2</td>\n",
       "      <td>257</td>\n",
       "      <td>282</td>\n",
       "      <td>393</td>\n",
       "      <td>282</td>\n",
       "      <td>317</td>\n",
       "      <td>492</td>\n",
       "      <td>170</td>\n",
       "      <td>491</td>\n",
       "      <td>小吉</td>\n",
       "    </tr>\n",
       "    <tr>\n",
       "      <th>303398</th>\n",
       "      <td>img_8854</td>\n",
       "      <td>2</td>\n",
       "      <td>633</td>\n",
       "      <td>194</td>\n",
       "      <td>824</td>\n",
       "      <td>283</td>\n",
       "      <td>662</td>\n",
       "      <td>825</td>\n",
       "      <td>379</td>\n",
       "      <td>774</td>\n",
       "      <td>中壢媽</td>\n",
       "    </tr>\n",
       "    <tr>\n",
       "      <th>303404</th>\n",
       "      <td>img_4595</td>\n",
       "      <td>2</td>\n",
       "      <td>568</td>\n",
       "      <td>715</td>\n",
       "      <td>626</td>\n",
       "      <td>689</td>\n",
       "      <td>641</td>\n",
       "      <td>818</td>\n",
       "      <td>578</td>\n",
       "      <td>836</td>\n",
       "      <td>手作</td>\n",
       "    </tr>\n",
       "    <tr>\n",
       "      <th>303407</th>\n",
       "      <td>img_4595</td>\n",
       "      <td>2</td>\n",
       "      <td>264</td>\n",
       "      <td>951</td>\n",
       "      <td>639</td>\n",
       "      <td>823</td>\n",
       "      <td>652</td>\n",
       "      <td>923</td>\n",
       "      <td>272</td>\n",
       "      <td>1046</td>\n",
       "      <td>包子豆漿</td>\n",
       "    </tr>\n",
       "  </tbody>\n",
       "</table>\n",
       "<p>49834 rows × 11 columns</p>\n",
       "</div>"
      ],
      "text/plain": [
       "             imgs  ids  pt1   pt2   pt3   pt4   pt5   pt6  pt7   pt8   labels\n",
       "7        img_7818    2  265  1106   904  1074   908  1186  256  1206  多多選物販賣機\n",
       "13      img_11576    2  130   726   628   711   591   875   87   885      樂雅樂\n",
       "14      img_11576    2  619   771  1033   753  1015   862  597   870     家庭餐廳\n",
       "21       img_3260    2   80   383   225   374   227   669   68   661       日式\n",
       "22       img_3260    4  138     1   373     0   376   372  135   361     ###裁\n",
       "...           ...  ...  ...   ...   ...   ...   ...   ...  ...   ...      ...\n",
       "303389  img_11082    2  476   269  1476   223  1501   427  449   466     小吉咖哩\n",
       "303390  img_11082    2  257   282   393   282   317   492  170   491       小吉\n",
       "303398   img_8854    2  633   194   824   283   662   825  379   774      中壢媽\n",
       "303404   img_4595    2  568   715   626   689   641   818  578   836       手作\n",
       "303407   img_4595    2  264   951   639   823   652   923  272  1046     包子豆漿\n",
       "\n",
       "[49834 rows x 11 columns]"
      ]
     },
     "execution_count": 9,
     "metadata": {},
     "output_type": "execute_result"
    }
   ],
   "source": [
    "df[(df[\"ids\"]==2) | (df[\"ids\"]==4)]#select ids ==2 or 4"
   ]
  },
  {
   "cell_type": "code",
   "execution_count": 30,
   "id": "2ee41107",
   "metadata": {},
   "outputs": [],
   "source": [
    "# turn empty str to ###\n",
    "df.labels = df.labels.apply(lambda x:\"###\" if x ==\"\" else x)"
   ]
  },
  {
   "cell_type": "code",
   "execution_count": 33,
   "id": "3c835dda",
   "metadata": {},
   "outputs": [
    {
     "name": "stdout",
     "output_type": "stream",
     "text": [
      "<class 'pandas.core.frame.DataFrame'>\n",
      "RangeIndex: 382606 entries, 0 to 382605\n",
      "Data columns (total 10 columns):\n",
      " #   Column  Non-Null Count   Dtype \n",
      "---  ------  --------------   ----- \n",
      " 0   imgs    382606 non-null  object\n",
      " 1   pt1     382606 non-null  int64 \n",
      " 2   pt2     382606 non-null  int64 \n",
      " 3   pt3     382606 non-null  int64 \n",
      " 4   pt4     382606 non-null  int64 \n",
      " 5   pt5     382606 non-null  int64 \n",
      " 6   pt6     382606 non-null  int64 \n",
      " 7   pt7     382606 non-null  int64 \n",
      " 8   pt8     382606 non-null  int64 \n",
      " 9   labels  382606 non-null  object\n",
      "dtypes: int64(8), object(2)\n",
      "memory usage: 29.2+ MB\n"
     ]
    }
   ],
   "source": [
    "df.info()"
   ]
  },
  {
   "cell_type": "code",
   "execution_count": 34,
   "id": "4fbeb3c7",
   "metadata": {},
   "outputs": [],
   "source": [
    "#df.to_csv(dataset_path+\"lsvt.csv\",encoding=\"utf8\",index=False)"
   ]
  },
  {
   "cell_type": "code",
   "execution_count": null,
   "id": "7491e848",
   "metadata": {},
   "outputs": [],
   "source": []
  }
 ],
 "metadata": {
  "kernelspec": {
   "display_name": "Python 3 (ipykernel)",
   "language": "python",
   "name": "python3"
  },
  "language_info": {
   "codemirror_mode": {
    "name": "ipython",
    "version": 3
   },
   "file_extension": ".py",
   "mimetype": "text/x-python",
   "name": "python",
   "nbconvert_exporter": "python",
   "pygments_lexer": "ipython3",
   "version": "3.7.3"
  }
 },
 "nbformat": 4,
 "nbformat_minor": 5
}
