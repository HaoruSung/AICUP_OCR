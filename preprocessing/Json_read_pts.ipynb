{
 "cells": [
  {
   "cell_type": "code",
   "execution_count": 1,
   "id": "8ee9b205",
   "metadata": {
    "scrolled": true
   },
   "outputs": [
    {
     "name": "stderr",
     "output_type": "stream",
     "text": [
      "/home/mark/Desktop/py3.7/cv/paddleOCR/lib/python3.7/site-packages/pandas/compat/__init__.py:124: UserWarning: Could not import the lzma module. Your installed Python is incomplete. Attempting to use lzma compression will result in a RuntimeError.\n",
      "  warnings.warn(msg)\n"
     ]
    }
   ],
   "source": [
    "import os\n",
    "import json\n",
    "import re\n",
    "import pandas as pd\n",
    "from util import text_classify,sep_pts\n",
    "# import package\n",
    "#{\"None\":0,\"zh_char\":1,\"zh_str\":2,\"en\":3,\"zh_en\":4}"
   ]
  },
  {
   "cell_type": "code",
   "execution_count": 2,
   "id": "4cbaee4e",
   "metadata": {},
   "outputs": [],
   "source": [
    "#directory must contain train/json\n",
    "dataset_path = \"/home/mark/Desktop/py3.7/cv/datasets/ai_cup_f/\"\n",
    "my_path =dataset_path+\"/train\""
   ]
  },
  {
   "cell_type": "code",
   "execution_count": 3,
   "id": "857b9091",
   "metadata": {
    "scrolled": true
   },
   "outputs": [
    {
     "data": {
      "text/plain": [
       "['img_3260.json', 'img_1485.json']"
      ]
     },
     "execution_count": 3,
     "metadata": {},
     "output_type": "execute_result"
    }
   ],
   "source": [
    "files = os.listdir(my_path)#load filepath to variable\n",
    "files[:2]#display first two"
   ]
  },
  {
   "cell_type": "code",
   "execution_count": 4,
   "id": "ec6957db",
   "metadata": {},
   "outputs": [],
   "source": [
    "from sklearn.model_selection import train_test_split\n",
    "\n",
    "train, test = train_test_split(files, test_size=0.2,random_state=69)"
   ]
  },
  {
   "cell_type": "code",
   "execution_count": 7,
   "id": "3fab4377",
   "metadata": {},
   "outputs": [],
   "source": [
    "#extract useful info\n",
    "ids = []\n",
    "labels = []\n",
    "points = []\n",
    "img_name = []\n",
    "with open(dataset_path+\"/train_det_str/train_det_labels1.txt\",\"w\",encoding=\"utf8\") as out_f:\n",
    "    for file in train:#read top 10 files\n",
    "        file_lst = []\n",
    "        #read file\n",
    "        with open(my_path+file,'r',encoding='utf-8') as in_f:\n",
    "            d = json.load(in_f)\n",
    "            for elem in (d[\"shapes\"]):#looping thru json\n",
    "                buf_dic = {}\n",
    "                img_name.append(file[:-5])\n",
    "                clas = text_classify(elem[\"label\"])\n",
    "                if clas != 1 :\n",
    "                    if clas == 0:\n",
    "                        buf_dic[\"transcription\"] =\"###\"\n",
    "                    else:\n",
    "                        buf_dic[\"transcription\"] = elem[\"label\"]\n",
    "                    buf_dic[\"points\"] = elem[\"points\"]\n",
    "                    file_lst.append(buf_dic)\n",
    "        out_f.write(\"img/\"+file[:-5]+\".jpg\\t\"+str(file_lst)+\",\")"
   ]
  },
  {
   "cell_type": "code",
   "execution_count": 8,
   "id": "d9492e9e",
   "metadata": {},
   "outputs": [],
   "source": [
    "#extract useful info\n",
    "ids = []\n",
    "labels = []\n",
    "points = []\n",
    "img_name = []\n",
    "with open(dataset_path+\"/train_det_str/test_det_labels1.txt\",\"w\",encoding=\"utf8\") as out_f:\n",
    "    for file in test:#read top 10 files\n",
    "        file_lst = []\n",
    "        #read file\n",
    "        with open(my_path+file,'r',encoding='utf-8') as in_f:\n",
    "            d = json.load(in_f)\n",
    "            for elem in (d[\"shapes\"]):#looping thru json\n",
    "                buf_dic = {}\n",
    "                img_name.append(file[:-5])\n",
    "                clas = text_classify(elem[\"label\"])\n",
    "                if clas!=1 :\n",
    "                    if clas == 0:\n",
    "                        buf_dic[\"transcription\"] =\"###\"\n",
    "                    else:\n",
    "                        buf_dic[\"transcription\"] = elem[\"label\"]\n",
    "                    buf_dic[\"points\"] = elem[\"points\"]\n",
    "                    file_lst.append(buf_dic)\n",
    "        out_f.write(\"img/\"+file[:-5]+\".jpg\\t\"+str(file_lst)+\",\")"
   ]
  },
  {
   "cell_type": "code",
   "execution_count": null,
   "id": "7491e848",
   "metadata": {},
   "outputs": [],
   "source": []
  }
 ],
 "metadata": {
  "kernelspec": {
   "display_name": "Python 3 (ipykernel)",
   "language": "python",
   "name": "python3"
  },
  "language_info": {
   "codemirror_mode": {
    "name": "ipython",
    "version": 3
   },
   "file_extension": ".py",
   "mimetype": "text/x-python",
   "name": "python",
   "nbconvert_exporter": "python",
   "pygments_lexer": "ipython3",
   "version": "3.7.3"
  }
 },
 "nbformat": 4,
 "nbformat_minor": 5
}
