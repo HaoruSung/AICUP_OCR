{
 "cells": [
  {
   "cell_type": "code",
   "execution_count": 19,
   "id": "8ee9b205",
   "metadata": {},
   "outputs": [],
   "source": [
    "import os\n",
    "import cv2\n",
    "import numpy as np\n",
    "import pandas as pd\n",
    "import random"
   ]
  },
  {
   "cell_type": "code",
   "execution_count": 20,
   "id": "f3387b63",
   "metadata": {},
   "outputs": [],
   "source": [
    "os.chdir('/home/mark/Desktop/py3.7/cv/paddleOCR/code/paddle/')"
   ]
  },
  {
   "cell_type": "code",
   "execution_count": 21,
   "id": "1a96bdcf",
   "metadata": {},
   "outputs": [],
   "source": [
    "# read csv \"df as dataframe\"\n",
    "df = pd.read_csv(\"../infer_model/results/det_r18_rec_r34.csv\",)"
   ]
  },
  {
   "cell_type": "code",
   "execution_count": 22,
   "id": "375fdc9f",
   "metadata": {},
   "outputs": [],
   "source": [
    "dataset_path = \"/home/mark/Desktop/py3.7/cv/datasets/ai_cup_f/\"\n",
    "img_path=dataset_path+\"public/\"\n",
    "out_path=\"../infer_model/results/det_r18_rec_r34_img/\""
   ]
  },
  {
   "cell_type": "code",
   "execution_count": 6,
   "id": "1e06ff5f",
   "metadata": {},
   "outputs": [
    {
     "name": "stdout",
     "output_type": "stream",
     "text": [
      "<class 'pandas.core.frame.DataFrame'>\n",
      "RangeIndex: 12670 entries, 0 to 12669\n",
      "Data columns (total 10 columns):\n",
      " #   Column  Non-Null Count  Dtype \n",
      "---  ------  --------------  ----- \n",
      " 0   imgs    12670 non-null  object\n",
      " 1   pt1     12670 non-null  int64 \n",
      " 2   pt2     12670 non-null  int64 \n",
      " 3   pt3     12670 non-null  int64 \n",
      " 4   pt4     12670 non-null  int64 \n",
      " 5   pt5     12670 non-null  int64 \n",
      " 6   pt6     12670 non-null  int64 \n",
      " 7   pt7     12670 non-null  int64 \n",
      " 8   pt8     12670 non-null  int64 \n",
      " 9   txt     12670 non-null  object\n",
      "dtypes: int64(8), object(2)\n",
      "memory usage: 990.0+ KB\n"
     ]
    }
   ],
   "source": [
    "df.info()"
   ]
  },
  {
   "cell_type": "code",
   "execution_count": 8,
   "id": "3fab4377",
   "metadata": {
    "scrolled": false
   },
   "outputs": [],
   "source": [
    "# opened_img = None\n",
    "# img = None\n",
    "# same_pic_count=0\n",
    "# for index, row in df.iterrows():\n",
    "#     color = (0,0,255)#set first line color in red\n",
    "#     current_img = df.imgs[index]+\".jpg\"#get file name\n",
    "#     points = [[row[\"pt\"+str(x)],row[\"pt\"+str(x+1)]] for x in range(1,9,2)]#get position data\n",
    "#     points = np.array(points, np.int32)#turn points into np.array\n",
    "#     if current_img == opened_img:#if same pics\n",
    "#         same_pic_count+=1\n",
    "#         random.seed(same_pic_count)\n",
    "#         color = (random.randint(0,255),random.randint(0,255),random.randint(0,255))#change color\n",
    "#         cv2.polylines(img, pts=[points], isClosed=True, color=color, thickness=3)#draw polylines\n",
    "#         continue\n",
    "#     else:# if new pic\n",
    "#         if opened_img:\n",
    "#             cv2.imwrite(out_path+opened_img, img)#save original img to path\n",
    "#         same_pic_count= 0\n",
    "#         img = cv2.imread(img_path+current_img)#read new img \n",
    "#         opened_img = current_img\n",
    "#         cv2.polylines(img, pts=[points], isClosed=True, color=color, thickness=3)   #draw polylines"
   ]
  },
  {
   "cell_type": "markdown",
   "id": "aae2c333",
   "metadata": {},
   "source": [
    "### draw det_rec result"
   ]
  },
  {
   "cell_type": "code",
   "execution_count": 9,
   "id": "45ae0002",
   "metadata": {},
   "outputs": [
    {
     "name": "stderr",
     "output_type": "stream",
     "text": [
      "/home/mark/Desktop/py3.7/cv/paddleOCR/lib/python3.7/site-packages/paddle/fluid/layers/utils.py:26: DeprecationWarning: `np.int` is a deprecated alias for the builtin `int`. To silence this warning, use `int` by itself. Doing this will not modify any behavior and is safe. When replacing `np.int`, you may wish to use e.g. `np.int64` or `np.int32` to specify the precision. If you wish to review your current use, check the release note link for additional information.\n",
      "Deprecated in NumPy 1.20; for more details and guidance: https://numpy.org/devdocs/release/1.20.0-notes.html#deprecations\n",
      "  def convert_to_list(value, n, name, dtype=np.int):\n",
      "/home/mark/Desktop/py3.7/cv/paddleOCR/lib/python3.7/site-packages/skimage/morphology/_skeletonize.py:241: DeprecationWarning: `np.bool` is a deprecated alias for the builtin `bool`. To silence this warning, use `bool` by itself. Doing this will not modify any behavior and is safe. If you specifically wanted the numpy scalar type, use `np.bool_` here.\n",
      "Deprecated in NumPy 1.20; for more details and guidance: https://numpy.org/devdocs/release/1.20.0-notes.html#deprecations\n",
      "  0, 1, 1, 0, 0, 1, 0, 0, 0], dtype=np.bool)\n",
      "/home/mark/Desktop/py3.7/cv/paddleOCR/lib/python3.7/site-packages/skimage/morphology/_skeletonize.py:256: DeprecationWarning: `np.bool` is a deprecated alias for the builtin `bool`. To silence this warning, use `bool` by itself. Doing this will not modify any behavior and is safe. If you specifically wanted the numpy scalar type, use `np.bool_` here.\n",
      "Deprecated in NumPy 1.20; for more details and guidance: https://numpy.org/devdocs/release/1.20.0-notes.html#deprecations\n",
      "  0, 0, 0, 0, 0, 0, 0, 0, 0], dtype=np.bool)\n"
     ]
    }
   ],
   "source": [
    "from paddleocr import PaddleOCR\n",
    "from tools.infer.utility  import draw_ocr\n",
    "import pandas as pd\n",
    "from PIL import Image"
   ]
  },
  {
   "cell_type": "code",
   "execution_count": 23,
   "id": "b1e305d0",
   "metadata": {},
   "outputs": [],
   "source": [
    "#draw ocr \n",
    "def draw_ocr_result(img_path,boxes,txts,scores):\n",
    "    image = Image.open(img_path).convert('RGB')\n",
    "    im_show = draw_ocr(image, boxes, txts, scores)\n",
    "    im_show = Image.fromarray(im_show)\n",
    "    return im_show"
   ]
  },
  {
   "cell_type": "code",
   "execution_count": 24,
   "id": "404db9a9",
   "metadata": {},
   "outputs": [],
   "source": [
    "def chunks(lst, n):\n",
    "    \"\"\n",
    "    \"Yield successive n-sized chunks from lst.\"\n",
    "    \"\"\n",
    "    new_lst = []\n",
    "    for i in range(0, len(lst), n):\n",
    "        new_lst.append(lst[i: i + n])\n",
    "    return new_lst"
   ]
  },
  {
   "cell_type": "code",
   "execution_count": 25,
   "id": "a0683db3",
   "metadata": {},
   "outputs": [
    {
     "data": {
      "text/plain": [
       "[[1, 2], [3, 4], [5, 6], [7, 8]]"
      ]
     },
     "execution_count": 25,
     "metadata": {},
     "output_type": "execute_result"
    }
   ],
   "source": [
    "chunks([1,2,3,4,5,6,7,8],2)\n"
   ]
  },
  {
   "cell_type": "code",
   "execution_count": 30,
   "id": "7c0fe19a",
   "metadata": {},
   "outputs": [
    {
     "name": "stdout",
     "output_type": "stream",
     "text": [
      "img_20000\n",
      "img_20001\n",
      "img_20002\n",
      "img_20003\n",
      "img_20004\n",
      "img_20005\n",
      "img_20006\n",
      "img_20007\n",
      "img_20008\n",
      "img_20009\n",
      "img_20010\n",
      "img_20011\n",
      "img_20012\n",
      "img_20013\n",
      "img_20014\n",
      "img_20015\n",
      "img_20016\n",
      "img_20017\n",
      "img_20018\n",
      "img_20019\n",
      "img_20020\n",
      "img_20021\n",
      "img_20022\n",
      "img_20023\n",
      "img_20024\n",
      "img_20025\n",
      "img_20026\n",
      "img_20027\n",
      "img_20028\n",
      "img_20029\n",
      "img_20030\n",
      "img_20031\n",
      "img_20032\n",
      "img_20033\n",
      "img_20034\n",
      "img_20035\n",
      "img_20036\n",
      "img_20037\n",
      "img_20038\n",
      "img_20039\n",
      "img_20040\n",
      "img_20041\n",
      "img_20042\n",
      "img_20043\n",
      "img_20044\n",
      "img_20045\n",
      "img_20046\n",
      "img_20047\n",
      "img_20048\n",
      "img_20049\n",
      "img_20050\n",
      "img_20051\n",
      "img_20052\n",
      "img_20053\n",
      "img_20054\n",
      "img_20055\n",
      "img_20056\n",
      "img_20057\n",
      "img_20058\n",
      "img_20059\n",
      "img_20060\n",
      "img_20061\n",
      "img_20062\n",
      "img_20063\n",
      "img_20064\n",
      "img_20065\n",
      "img_20066\n",
      "img_20067\n",
      "img_20068\n",
      "img_20069\n",
      "img_20070\n",
      "img_20071\n",
      "img_20072\n",
      "img_20073\n",
      "img_20074\n",
      "img_20075\n",
      "img_20076\n",
      "img_20077\n",
      "img_20078\n",
      "img_20079\n",
      "img_20080\n",
      "img_20081\n",
      "img_20082\n",
      "img_20083\n",
      "img_20084\n",
      "img_20085\n",
      "img_20086\n",
      "img_20087\n",
      "img_20088\n",
      "img_20089\n",
      "img_20090\n",
      "img_20091\n",
      "img_20092\n",
      "img_20093\n",
      "img_20094\n",
      "img_20095\n",
      "img_20096\n",
      "img_20097\n",
      "img_20098\n",
      "img_20099\n",
      "img_20100\n",
      "img_20101\n",
      "img_20102\n",
      "img_20103\n",
      "img_20104\n",
      "img_20105\n",
      "img_20106\n",
      "img_20107\n",
      "img_20108\n",
      "img_20109\n",
      "img_20110\n",
      "img_20111\n",
      "img_20112\n",
      "img_20113\n",
      "img_20114\n",
      "img_20115\n",
      "img_20116\n",
      "img_20117\n",
      "img_20118\n",
      "img_20119\n",
      "img_20120\n",
      "img_20121\n",
      "img_20122\n",
      "img_20123\n",
      "img_20124\n",
      "img_20125\n",
      "img_20126\n",
      "img_20127\n",
      "img_20128\n",
      "img_20129\n",
      "img_20130\n",
      "img_20131\n",
      "img_20132\n",
      "img_20133\n",
      "img_20134\n",
      "img_20135\n",
      "img_20136\n",
      "img_20137\n",
      "img_20138\n",
      "img_20139\n",
      "img_20140\n",
      "img_20141\n",
      "img_20142\n",
      "img_20143\n",
      "img_20144\n",
      "img_20145\n",
      "img_20146\n",
      "img_20147\n",
      "img_20148\n",
      "img_20149\n",
      "img_20150\n",
      "img_20151\n",
      "img_20152\n",
      "img_20153\n",
      "img_20154\n",
      "img_20155\n",
      "img_20156\n",
      "img_20157\n",
      "img_20158\n",
      "img_20159\n",
      "img_20160\n",
      "img_20161\n",
      "img_20162\n",
      "img_20163\n",
      "img_20164\n",
      "img_20165\n",
      "img_20166\n",
      "img_20167\n",
      "img_20168\n",
      "img_20169\n",
      "img_20170\n",
      "img_20171\n",
      "img_20172\n",
      "img_20173\n",
      "img_20174\n",
      "img_20175\n",
      "img_20176\n",
      "img_20177\n",
      "img_20178\n",
      "img_20179\n",
      "img_20180\n",
      "img_20181\n",
      "img_20182\n",
      "img_20183\n",
      "img_20184\n",
      "img_20185\n",
      "img_20186\n",
      "img_20187\n",
      "img_20188\n",
      "img_20189\n",
      "img_20190\n",
      "img_20191\n",
      "img_20192\n",
      "img_20193\n",
      "img_20194\n",
      "img_20195\n",
      "img_20196\n",
      "img_20197\n",
      "img_20198\n",
      "img_20199\n",
      "img_20200\n",
      "img_20201\n",
      "img_20202\n",
      "img_20203\n",
      "img_20204\n",
      "img_20205\n",
      "img_20206\n",
      "img_20207\n",
      "img_20208\n",
      "img_20209\n",
      "img_20210\n",
      "img_20211\n",
      "img_20212\n",
      "img_20213\n",
      "img_20214\n",
      "img_20215\n",
      "img_20216\n",
      "img_20217\n",
      "img_20218\n",
      "img_20219\n",
      "img_20220\n",
      "img_20221\n",
      "img_20222\n",
      "img_20223\n"
     ]
    },
    {
     "name": "stderr",
     "output_type": "stream",
     "text": [
      "Maximum number of clients reacheddisplay-im6.q16: unable to open X server `:1' @ error/display.c/DisplayImageCommand/432.\n",
      "Maximum number of clients reacheddisplay-im6.q16: unable to open X server `:1' @ error/display.c/DisplayImageCommand/432.\n"
     ]
    },
    {
     "name": "stdout",
     "output_type": "stream",
     "text": [
      "img_20224\n",
      "img_20225\n"
     ]
    },
    {
     "name": "stderr",
     "output_type": "stream",
     "text": [
      "Maximum number of clients reacheddisplay-im6.q16: unable to open X server `:1' @ error/display.c/DisplayImageCommand/432.\n",
      "Maximum number of clients reacheddisplay-im6.q16: unable to open X server `:1' @ error/display.c/DisplayImageCommand/432.\n"
     ]
    },
    {
     "name": "stdout",
     "output_type": "stream",
     "text": [
      "img_20226\n",
      "img_20227\n"
     ]
    },
    {
     "name": "stderr",
     "output_type": "stream",
     "text": [
      "Maximum number of clients reacheddisplay-im6.q16: unable to open X server `:1' @ error/display.c/DisplayImageCommand/432.\n",
      "Maximum number of clients reacheddisplay-im6.q16: unable to open X server `:1' @ error/display.c/DisplayImageCommand/432.\n"
     ]
    },
    {
     "name": "stdout",
     "output_type": "stream",
     "text": [
      "img_20228\n",
      "img_20229\n"
     ]
    },
    {
     "name": "stderr",
     "output_type": "stream",
     "text": [
      "Maximum number of clients reacheddisplay-im6.q16: unable to open X server `:1' @ error/display.c/DisplayImageCommand/432.\n",
      "Maximum number of clients reacheddisplay-im6.q16: unable to open X server `:1' @ error/display.c/DisplayImageCommand/432.\n"
     ]
    },
    {
     "name": "stdout",
     "output_type": "stream",
     "text": [
      "img_20230\n",
      "img_20231\n"
     ]
    },
    {
     "name": "stderr",
     "output_type": "stream",
     "text": [
      "Maximum number of clients reacheddisplay-im6.q16: unable to open X server `:1' @ error/display.c/DisplayImageCommand/432.\n",
      "Maximum number of clients reacheddisplay-im6.q16: unable to open X server `:1' @ error/display.c/DisplayImageCommand/432.\n"
     ]
    },
    {
     "name": "stdout",
     "output_type": "stream",
     "text": [
      "img_20232\n",
      "img_20233\n"
     ]
    },
    {
     "name": "stderr",
     "output_type": "stream",
     "text": [
      "Maximum number of clients reacheddisplay-im6.q16: unable to open X server `:1' @ error/display.c/DisplayImageCommand/432.\n",
      "Maximum number of clients reacheddisplay-im6.q16: unable to open X server `:1' @ error/display.c/DisplayImageCommand/432.\n"
     ]
    },
    {
     "name": "stdout",
     "output_type": "stream",
     "text": [
      "img_20234\n",
      "img_20235\n"
     ]
    },
    {
     "name": "stderr",
     "output_type": "stream",
     "text": [
      "Maximum number of clients reacheddisplay-im6.q16: unable to open X server `:1' @ error/display.c/DisplayImageCommand/432.\n",
      "Maximum number of clients reacheddisplay-im6.q16: unable to open X server `:1' @ error/display.c/DisplayImageCommand/432.\n"
     ]
    },
    {
     "name": "stdout",
     "output_type": "stream",
     "text": [
      "img_20236\n",
      "img_20237\n"
     ]
    },
    {
     "name": "stderr",
     "output_type": "stream",
     "text": [
      "Maximum number of clients reacheddisplay-im6.q16: unable to open X server `:1' @ error/display.c/DisplayImageCommand/432.\n",
      "Maximum number of clients reacheddisplay-im6.q16: unable to open X server `:1' @ error/display.c/DisplayImageCommand/432.\n"
     ]
    },
    {
     "name": "stdout",
     "output_type": "stream",
     "text": [
      "img_20238\n",
      "img_20239\n"
     ]
    },
    {
     "name": "stderr",
     "output_type": "stream",
     "text": [
      "Maximum number of clients reacheddisplay-im6.q16: unable to open X server `:1' @ error/display.c/DisplayImageCommand/432.\n",
      "Maximum number of clients reacheddisplay-im6.q16: unable to open X server `:1' @ error/display.c/DisplayImageCommand/432.\n"
     ]
    },
    {
     "name": "stdout",
     "output_type": "stream",
     "text": [
      "img_20240\n",
      "img_20241\n"
     ]
    },
    {
     "name": "stderr",
     "output_type": "stream",
     "text": [
      "Maximum number of clients reacheddisplay-im6.q16: unable to open X server `:1' @ error/display.c/DisplayImageCommand/432.\n",
      "Maximum number of clients reacheddisplay-im6.q16: unable to open X server `:1' @ error/display.c/DisplayImageCommand/432.\n"
     ]
    },
    {
     "name": "stdout",
     "output_type": "stream",
     "text": [
      "img_20242\n",
      "img_20243\n"
     ]
    },
    {
     "name": "stderr",
     "output_type": "stream",
     "text": [
      "Maximum number of clients reacheddisplay-im6.q16: unable to open X server `:1' @ error/display.c/DisplayImageCommand/432.\n",
      "Maximum number of clients reacheddisplay-im6.q16: unable to open X server `:1' @ error/display.c/DisplayImageCommand/432.\n"
     ]
    },
    {
     "name": "stdout",
     "output_type": "stream",
     "text": [
      "img_20244\n",
      "img_20245\n"
     ]
    },
    {
     "name": "stderr",
     "output_type": "stream",
     "text": [
      "Maximum number of clients reacheddisplay-im6.q16: unable to open X server `:1' @ error/display.c/DisplayImageCommand/432.\n",
      "Maximum number of clients reacheddisplay-im6.q16: unable to open X server `:1' @ error/display.c/DisplayImageCommand/432.\n"
     ]
    },
    {
     "name": "stdout",
     "output_type": "stream",
     "text": [
      "img_20246\n",
      "img_20247\n"
     ]
    },
    {
     "name": "stderr",
     "output_type": "stream",
     "text": [
      "Maximum number of clients reacheddisplay-im6.q16: unable to open X server `:1' @ error/display.c/DisplayImageCommand/432.\n",
      "Maximum number of clients reacheddisplay-im6.q16: unable to open X server `:1' @ error/display.c/DisplayImageCommand/432.\n"
     ]
    },
    {
     "name": "stdout",
     "output_type": "stream",
     "text": [
      "img_20248\n",
      "img_20249\n"
     ]
    },
    {
     "name": "stderr",
     "output_type": "stream",
     "text": [
      "Maximum number of clients reacheddisplay-im6.q16: unable to open X server `:1' @ error/display.c/DisplayImageCommand/432.\n",
      "Maximum number of clients reacheddisplay-im6.q16: unable to open X server `:1' @ error/display.c/DisplayImageCommand/432.\n"
     ]
    },
    {
     "name": "stdout",
     "output_type": "stream",
     "text": [
      "img_20250\n",
      "img_20251\n"
     ]
    },
    {
     "name": "stderr",
     "output_type": "stream",
     "text": [
      "Maximum number of clients reacheddisplay-im6.q16: unable to open X server `:1' @ error/display.c/DisplayImageCommand/432.\n",
      "Maximum number of clients reacheddisplay-im6.q16: unable to open X server `:1' @ error/display.c/DisplayImageCommand/432.\n"
     ]
    },
    {
     "name": "stdout",
     "output_type": "stream",
     "text": [
      "img_20252\n",
      "img_20253\n"
     ]
    },
    {
     "name": "stderr",
     "output_type": "stream",
     "text": [
      "Maximum number of clients reacheddisplay-im6.q16: unable to open X server `:1' @ error/display.c/DisplayImageCommand/432.\n",
      "Maximum number of clients reacheddisplay-im6.q16: unable to open X server `:1' @ error/display.c/DisplayImageCommand/432.\n"
     ]
    },
    {
     "name": "stdout",
     "output_type": "stream",
     "text": [
      "img_20254\n",
      "img_20255\n"
     ]
    },
    {
     "name": "stderr",
     "output_type": "stream",
     "text": [
      "Maximum number of clients reacheddisplay-im6.q16: unable to open X server `:1' @ error/display.c/DisplayImageCommand/432.\n",
      "Maximum number of clients reacheddisplay-im6.q16: unable to open X server `:1' @ error/display.c/DisplayImageCommand/432.\n"
     ]
    },
    {
     "name": "stdout",
     "output_type": "stream",
     "text": [
      "img_20256\n",
      "img_20257\n"
     ]
    },
    {
     "name": "stderr",
     "output_type": "stream",
     "text": [
      "Maximum number of clients reacheddisplay-im6.q16: unable to open X server `:1' @ error/display.c/DisplayImageCommand/432.\n",
      "Maximum number of clients reacheddisplay-im6.q16: unable to open X server `:1' @ error/display.c/DisplayImageCommand/432.\n"
     ]
    },
    {
     "name": "stdout",
     "output_type": "stream",
     "text": [
      "img_20258\n",
      "img_20259\n"
     ]
    },
    {
     "name": "stderr",
     "output_type": "stream",
     "text": [
      "Maximum number of clients reacheddisplay-im6.q16: unable to open X server `:1' @ error/display.c/DisplayImageCommand/432.\n",
      "Maximum number of clients reacheddisplay-im6.q16: unable to open X server `:1' @ error/display.c/DisplayImageCommand/432.\n"
     ]
    },
    {
     "name": "stdout",
     "output_type": "stream",
     "text": [
      "img_20260\n",
      "img_20261\n"
     ]
    },
    {
     "name": "stderr",
     "output_type": "stream",
     "text": [
      "Maximum number of clients reacheddisplay-im6.q16: unable to open X server `:1' @ error/display.c/DisplayImageCommand/432.\n",
      "Maximum number of clients reacheddisplay-im6.q16: unable to open X server `:1' @ error/display.c/DisplayImageCommand/432.\n"
     ]
    },
    {
     "name": "stdout",
     "output_type": "stream",
     "text": [
      "img_20262\n",
      "img_20263\n"
     ]
    },
    {
     "name": "stderr",
     "output_type": "stream",
     "text": [
      "Maximum number of clients reacheddisplay-im6.q16: unable to open X server `:1' @ error/display.c/DisplayImageCommand/432.\n",
      "Maximum number of clients reacheddisplay-im6.q16: unable to open X server `:1' @ error/display.c/DisplayImageCommand/432.\n"
     ]
    },
    {
     "name": "stdout",
     "output_type": "stream",
     "text": [
      "img_20264\n",
      "img_20265\n"
     ]
    },
    {
     "name": "stderr",
     "output_type": "stream",
     "text": [
      "Maximum number of clients reacheddisplay-im6.q16: unable to open X server `:1' @ error/display.c/DisplayImageCommand/432.\n",
      "Maximum number of clients reacheddisplay-im6.q16: unable to open X server `:1' @ error/display.c/DisplayImageCommand/432.\n"
     ]
    },
    {
     "name": "stdout",
     "output_type": "stream",
     "text": [
      "img_20266\n",
      "img_20267\n"
     ]
    },
    {
     "name": "stderr",
     "output_type": "stream",
     "text": [
      "Maximum number of clients reacheddisplay-im6.q16: unable to open X server `:1' @ error/display.c/DisplayImageCommand/432.\n",
      "Maximum number of clients reacheddisplay-im6.q16: unable to open X server `:1' @ error/display.c/DisplayImageCommand/432.\n"
     ]
    },
    {
     "name": "stdout",
     "output_type": "stream",
     "text": [
      "img_20268\n",
      "img_20269\n"
     ]
    },
    {
     "name": "stderr",
     "output_type": "stream",
     "text": [
      "Maximum number of clients reacheddisplay-im6.q16: unable to open X server `:1' @ error/display.c/DisplayImageCommand/432.\n",
      "Maximum number of clients reacheddisplay-im6.q16: unable to open X server `:1' @ error/display.c/DisplayImageCommand/432.\n"
     ]
    },
    {
     "name": "stdout",
     "output_type": "stream",
     "text": [
      "img_20270\n",
      "img_20271\n"
     ]
    },
    {
     "name": "stderr",
     "output_type": "stream",
     "text": [
      "Maximum number of clients reacheddisplay-im6.q16: unable to open X server `:1' @ error/display.c/DisplayImageCommand/432.\n",
      "Maximum number of clients reacheddisplay-im6.q16: unable to open X server `:1' @ error/display.c/DisplayImageCommand/432.\n"
     ]
    },
    {
     "name": "stdout",
     "output_type": "stream",
     "text": [
      "img_20272\n",
      "img_20273\n"
     ]
    },
    {
     "name": "stderr",
     "output_type": "stream",
     "text": [
      "Maximum number of clients reacheddisplay-im6.q16: unable to open X server `:1' @ error/display.c/DisplayImageCommand/432.\n",
      "Maximum number of clients reacheddisplay-im6.q16: unable to open X server `:1' @ error/display.c/DisplayImageCommand/432.\n"
     ]
    },
    {
     "name": "stdout",
     "output_type": "stream",
     "text": [
      "img_20274\n",
      "img_20275\n"
     ]
    },
    {
     "name": "stderr",
     "output_type": "stream",
     "text": [
      "Maximum number of clients reacheddisplay-im6.q16: unable to open X server `:1' @ error/display.c/DisplayImageCommand/432.\n",
      "Maximum number of clients reacheddisplay-im6.q16: unable to open X server `:1' @ error/display.c/DisplayImageCommand/432.\n"
     ]
    },
    {
     "name": "stdout",
     "output_type": "stream",
     "text": [
      "img_20276\n",
      "img_20277\n"
     ]
    },
    {
     "name": "stderr",
     "output_type": "stream",
     "text": [
      "Maximum number of clients reacheddisplay-im6.q16: unable to open X server `:1' @ error/display.c/DisplayImageCommand/432.\n",
      "Maximum number of clients reacheddisplay-im6.q16: unable to open X server `:1' @ error/display.c/DisplayImageCommand/432.\n"
     ]
    },
    {
     "name": "stdout",
     "output_type": "stream",
     "text": [
      "img_20278\n",
      "img_20279\n"
     ]
    },
    {
     "name": "stderr",
     "output_type": "stream",
     "text": [
      "Maximum number of clients reacheddisplay-im6.q16: unable to open X server `:1' @ error/display.c/DisplayImageCommand/432.\n",
      "Maximum number of clients reacheddisplay-im6.q16: unable to open X server `:1' @ error/display.c/DisplayImageCommand/432.\n"
     ]
    },
    {
     "name": "stdout",
     "output_type": "stream",
     "text": [
      "img_20280\n",
      "img_20281\n"
     ]
    },
    {
     "name": "stderr",
     "output_type": "stream",
     "text": [
      "Maximum number of clients reacheddisplay-im6.q16: unable to open X server `:1' @ error/display.c/DisplayImageCommand/432.\n",
      "Maximum number of clients reacheddisplay-im6.q16: unable to open X server `:1' @ error/display.c/DisplayImageCommand/432.\n"
     ]
    },
    {
     "name": "stdout",
     "output_type": "stream",
     "text": [
      "img_20282\n",
      "img_20283\n"
     ]
    },
    {
     "name": "stderr",
     "output_type": "stream",
     "text": [
      "Maximum number of clients reacheddisplay-im6.q16: unable to open X server `:1' @ error/display.c/DisplayImageCommand/432.\n",
      "Maximum number of clients reacheddisplay-im6.q16: unable to open X server `:1' @ error/display.c/DisplayImageCommand/432.\n"
     ]
    },
    {
     "name": "stdout",
     "output_type": "stream",
     "text": [
      "img_20284\n",
      "img_20285\n"
     ]
    },
    {
     "name": "stderr",
     "output_type": "stream",
     "text": [
      "Maximum number of clients reacheddisplay-im6.q16: unable to open X server `:1' @ error/display.c/DisplayImageCommand/432.\n",
      "Maximum number of clients reacheddisplay-im6.q16: unable to open X server `:1' @ error/display.c/DisplayImageCommand/432.\n"
     ]
    },
    {
     "name": "stdout",
     "output_type": "stream",
     "text": [
      "img_20286\n",
      "img_20287\n"
     ]
    },
    {
     "name": "stderr",
     "output_type": "stream",
     "text": [
      "Maximum number of clients reacheddisplay-im6.q16: unable to open X server `:1' @ error/display.c/DisplayImageCommand/432.\n",
      "Maximum number of clients reacheddisplay-im6.q16: unable to open X server `:1' @ error/display.c/DisplayImageCommand/432.\n"
     ]
    },
    {
     "name": "stdout",
     "output_type": "stream",
     "text": [
      "img_20288\n"
     ]
    },
    {
     "name": "stderr",
     "output_type": "stream",
     "text": [
      "Maximum number of clients reacheddisplay-im6.q16: unable to open X server `:1' @ error/display.c/DisplayImageCommand/432.\n",
      "Maximum number of clients reacheddisplay-im6.q16: unable to open X server `:1' @ error/display.c/DisplayImageCommand/432.\n"
     ]
    },
    {
     "name": "stdout",
     "output_type": "stream",
     "text": [
      "img_20289\n",
      "img_20290\n"
     ]
    },
    {
     "name": "stderr",
     "output_type": "stream",
     "text": [
      "Maximum number of clients reacheddisplay-im6.q16: unable to open X server `:1' @ error/display.c/DisplayImageCommand/432.\n",
      "Maximum number of clients reacheddisplay-im6.q16: unable to open X server `:1' @ error/display.c/DisplayImageCommand/432.\n"
     ]
    },
    {
     "name": "stdout",
     "output_type": "stream",
     "text": [
      "img_20291\n",
      "img_20292\n"
     ]
    },
    {
     "name": "stderr",
     "output_type": "stream",
     "text": [
      "Maximum number of clients reacheddisplay-im6.q16: unable to open X server `:1' @ error/display.c/DisplayImageCommand/432.\n"
     ]
    },
    {
     "name": "stdout",
     "output_type": "stream",
     "text": [
      "img_20293\n"
     ]
    },
    {
     "name": "stderr",
     "output_type": "stream",
     "text": [
      "Maximum number of clients reacheddisplay-im6.q16: unable to open X server `:1' @ error/display.c/DisplayImageCommand/432.\n",
      "Maximum number of clients reacheddisplay-im6.q16: unable to open X server `:1' @ error/display.c/DisplayImageCommand/432.\n"
     ]
    },
    {
     "name": "stdout",
     "output_type": "stream",
     "text": [
      "img_20294\n",
      "img_20295\n"
     ]
    },
    {
     "name": "stderr",
     "output_type": "stream",
     "text": [
      "Maximum number of clients reacheddisplay-im6.q16: unable to open X server `:1' @ error/display.c/DisplayImageCommand/432.\n",
      "Maximum number of clients reacheddisplay-im6.q16: unable to open X server `:1' @ error/display.c/DisplayImageCommand/432.\n"
     ]
    },
    {
     "name": "stdout",
     "output_type": "stream",
     "text": [
      "img_20296\n",
      "img_20297\n"
     ]
    },
    {
     "name": "stderr",
     "output_type": "stream",
     "text": [
      "Maximum number of clients reacheddisplay-im6.q16: unable to open X server `:1' @ error/display.c/DisplayImageCommand/432.\n",
      "Maximum number of clients reacheddisplay-im6.q16: unable to open X server `:1' @ error/display.c/DisplayImageCommand/432.\n"
     ]
    },
    {
     "name": "stdout",
     "output_type": "stream",
     "text": [
      "img_20298\n",
      "img_20299\n"
     ]
    },
    {
     "name": "stderr",
     "output_type": "stream",
     "text": [
      "Maximum number of clients reacheddisplay-im6.q16: unable to open X server `:1' @ error/display.c/DisplayImageCommand/432.\n",
      "Maximum number of clients reacheddisplay-im6.q16: unable to open X server `:1' @ error/display.c/DisplayImageCommand/432.\n"
     ]
    },
    {
     "name": "stdout",
     "output_type": "stream",
     "text": [
      "img_20300\n",
      "img_20301\n"
     ]
    },
    {
     "name": "stderr",
     "output_type": "stream",
     "text": [
      "Maximum number of clients reacheddisplay-im6.q16: unable to open X server `:1' @ error/display.c/DisplayImageCommand/432.\n",
      "Maximum number of clients reacheddisplay-im6.q16: unable to open X server `:1' @ error/display.c/DisplayImageCommand/432.\n"
     ]
    },
    {
     "name": "stdout",
     "output_type": "stream",
     "text": [
      "img_20302\n",
      "img_20303\n"
     ]
    },
    {
     "name": "stderr",
     "output_type": "stream",
     "text": [
      "Maximum number of clients reacheddisplay-im6.q16: unable to open X server `:1' @ error/display.c/DisplayImageCommand/432.\n"
     ]
    },
    {
     "name": "stdout",
     "output_type": "stream",
     "text": [
      "img_20304\n"
     ]
    },
    {
     "name": "stderr",
     "output_type": "stream",
     "text": [
      "Maximum number of clients reacheddisplay-im6.q16: unable to open X server `:1' @ error/display.c/DisplayImageCommand/432.\n",
      "Maximum number of clients reacheddisplay-im6.q16: unable to open X server `:1' @ error/display.c/DisplayImageCommand/432.\n"
     ]
    },
    {
     "name": "stdout",
     "output_type": "stream",
     "text": [
      "img_20305\n",
      "img_20306\n"
     ]
    },
    {
     "name": "stderr",
     "output_type": "stream",
     "text": [
      "Maximum number of clients reacheddisplay-im6.q16: unable to open X server `:1' @ error/display.c/DisplayImageCommand/432.\n",
      "Maximum number of clients reacheddisplay-im6.q16: unable to open X server `:1' @ error/display.c/DisplayImageCommand/432.\n"
     ]
    },
    {
     "name": "stdout",
     "output_type": "stream",
     "text": [
      "img_20307\n",
      "img_20308\n"
     ]
    },
    {
     "name": "stderr",
     "output_type": "stream",
     "text": [
      "Maximum number of clients reacheddisplay-im6.q16: unable to open X server `:1' @ error/display.c/DisplayImageCommand/432.\n",
      "Maximum number of clients reacheddisplay-im6.q16: unable to open X server `:1' @ error/display.c/DisplayImageCommand/432.\n"
     ]
    },
    {
     "name": "stdout",
     "output_type": "stream",
     "text": [
      "img_20309\n",
      "img_20310\n"
     ]
    },
    {
     "name": "stderr",
     "output_type": "stream",
     "text": [
      "Maximum number of clients reacheddisplay-im6.q16: unable to open X server `:1' @ error/display.c/DisplayImageCommand/432.\n",
      "Maximum number of clients reacheddisplay-im6.q16: unable to open X server `:1' @ error/display.c/DisplayImageCommand/432.\n"
     ]
    },
    {
     "name": "stdout",
     "output_type": "stream",
     "text": [
      "img_20311\n",
      "img_20312\n"
     ]
    },
    {
     "name": "stderr",
     "output_type": "stream",
     "text": [
      "Maximum number of clients reacheddisplay-im6.q16: unable to open X server `:1' @ error/display.c/DisplayImageCommand/432.\n",
      "Maximum number of clients reacheddisplay-im6.q16: unable to open X server `:1' @ error/display.c/DisplayImageCommand/432.\n"
     ]
    },
    {
     "name": "stdout",
     "output_type": "stream",
     "text": [
      "img_20313\n",
      "img_20314\n"
     ]
    },
    {
     "name": "stderr",
     "output_type": "stream",
     "text": [
      "Maximum number of clients reacheddisplay-im6.q16: unable to open X server `:1' @ error/display.c/DisplayImageCommand/432.\n",
      "Maximum number of clients reacheddisplay-im6.q16: unable to open X server `:1' @ error/display.c/DisplayImageCommand/432.\n"
     ]
    },
    {
     "name": "stdout",
     "output_type": "stream",
     "text": [
      "img_20315\n",
      "img_20316\n"
     ]
    },
    {
     "name": "stderr",
     "output_type": "stream",
     "text": [
      "Maximum number of clients reacheddisplay-im6.q16: unable to open X server `:1' @ error/display.c/DisplayImageCommand/432.\n",
      "Maximum number of clients reacheddisplay-im6.q16: unable to open X server `:1' @ error/display.c/DisplayImageCommand/432.\n"
     ]
    },
    {
     "name": "stdout",
     "output_type": "stream",
     "text": [
      "img_20317\n",
      "img_20318\n"
     ]
    },
    {
     "name": "stderr",
     "output_type": "stream",
     "text": [
      "Maximum number of clients reacheddisplay-im6.q16: unable to open X server `:1' @ error/display.c/DisplayImageCommand/432.\n",
      "Maximum number of clients reacheddisplay-im6.q16: unable to open X server `:1' @ error/display.c/DisplayImageCommand/432.\n"
     ]
    },
    {
     "name": "stdout",
     "output_type": "stream",
     "text": [
      "img_20319\n",
      "img_20320\n"
     ]
    },
    {
     "name": "stderr",
     "output_type": "stream",
     "text": [
      "Maximum number of clients reacheddisplay-im6.q16: unable to open X server `:1' @ error/display.c/DisplayImageCommand/432.\n",
      "Maximum number of clients reacheddisplay-im6.q16: unable to open X server `:1' @ error/display.c/DisplayImageCommand/432.\n"
     ]
    },
    {
     "name": "stdout",
     "output_type": "stream",
     "text": [
      "img_20321\n",
      "img_20322\n"
     ]
    },
    {
     "name": "stderr",
     "output_type": "stream",
     "text": [
      "Maximum number of clients reacheddisplay-im6.q16: unable to open X server `:1' @ error/display.c/DisplayImageCommand/432.\n",
      "Maximum number of clients reacheddisplay-im6.q16: unable to open X server `:1' @ error/display.c/DisplayImageCommand/432.\n"
     ]
    },
    {
     "name": "stdout",
     "output_type": "stream",
     "text": [
      "img_20323\n",
      "img_20324\n"
     ]
    },
    {
     "name": "stderr",
     "output_type": "stream",
     "text": [
      "Maximum number of clients reacheddisplay-im6.q16: unable to open X server `:1' @ error/display.c/DisplayImageCommand/432.\n",
      "Maximum number of clients reacheddisplay-im6.q16: unable to open X server `:1' @ error/display.c/DisplayImageCommand/432.\n"
     ]
    },
    {
     "name": "stdout",
     "output_type": "stream",
     "text": [
      "img_20325\n",
      "img_20326\n"
     ]
    },
    {
     "name": "stderr",
     "output_type": "stream",
     "text": [
      "Maximum number of clients reacheddisplay-im6.q16: unable to open X server `:1' @ error/display.c/DisplayImageCommand/432.\n",
      "Maximum number of clients reacheddisplay-im6.q16: unable to open X server `:1' @ error/display.c/DisplayImageCommand/432.\n"
     ]
    },
    {
     "name": "stdout",
     "output_type": "stream",
     "text": [
      "img_20327\n",
      "img_20328\n"
     ]
    },
    {
     "name": "stderr",
     "output_type": "stream",
     "text": [
      "Maximum number of clients reacheddisplay-im6.q16: unable to open X server `:1' @ error/display.c/DisplayImageCommand/432.\n",
      "Maximum number of clients reacheddisplay-im6.q16: unable to open X server `:1' @ error/display.c/DisplayImageCommand/432.\n"
     ]
    },
    {
     "name": "stdout",
     "output_type": "stream",
     "text": [
      "img_20329\n",
      "img_20330\n"
     ]
    },
    {
     "name": "stderr",
     "output_type": "stream",
     "text": [
      "Maximum number of clients reacheddisplay-im6.q16: unable to open X server `:1' @ error/display.c/DisplayImageCommand/432.\n",
      "Maximum number of clients reacheddisplay-im6.q16: unable to open X server `:1' @ error/display.c/DisplayImageCommand/432.\n"
     ]
    },
    {
     "name": "stdout",
     "output_type": "stream",
     "text": [
      "img_20331\n",
      "img_20332\n"
     ]
    },
    {
     "name": "stderr",
     "output_type": "stream",
     "text": [
      "Maximum number of clients reacheddisplay-im6.q16: unable to open X server `:1' @ error/display.c/DisplayImageCommand/432.\n",
      "Maximum number of clients reacheddisplay-im6.q16: unable to open X server `:1' @ error/display.c/DisplayImageCommand/432.\n"
     ]
    },
    {
     "name": "stdout",
     "output_type": "stream",
     "text": [
      "img_20333\n",
      "img_20334\n"
     ]
    },
    {
     "name": "stderr",
     "output_type": "stream",
     "text": [
      "Maximum number of clients reacheddisplay-im6.q16: unable to open X server `:1' @ error/display.c/DisplayImageCommand/432.\n",
      "Maximum number of clients reacheddisplay-im6.q16: unable to open X server `:1' @ error/display.c/DisplayImageCommand/432.\n"
     ]
    },
    {
     "name": "stdout",
     "output_type": "stream",
     "text": [
      "img_20335\n",
      "img_20336\n"
     ]
    },
    {
     "name": "stderr",
     "output_type": "stream",
     "text": [
      "Maximum number of clients reacheddisplay-im6.q16: unable to open X server `:1' @ error/display.c/DisplayImageCommand/432.\n",
      "Maximum number of clients reacheddisplay-im6.q16: unable to open X server `:1' @ error/display.c/DisplayImageCommand/432.\n"
     ]
    },
    {
     "name": "stdout",
     "output_type": "stream",
     "text": [
      "img_20337\n",
      "img_20338\n"
     ]
    },
    {
     "name": "stderr",
     "output_type": "stream",
     "text": [
      "Maximum number of clients reacheddisplay-im6.q16: unable to open X server `:1' @ error/display.c/DisplayImageCommand/432.\n",
      "Maximum number of clients reacheddisplay-im6.q16: unable to open X server `:1' @ error/display.c/DisplayImageCommand/432.\n"
     ]
    },
    {
     "name": "stdout",
     "output_type": "stream",
     "text": [
      "img_20339\n",
      "img_20340\n"
     ]
    },
    {
     "name": "stderr",
     "output_type": "stream",
     "text": [
      "Maximum number of clients reacheddisplay-im6.q16: unable to open X server `:1' @ error/display.c/DisplayImageCommand/432.\n",
      "Maximum number of clients reacheddisplay-im6.q16: unable to open X server `:1' @ error/display.c/DisplayImageCommand/432.\n"
     ]
    },
    {
     "name": "stdout",
     "output_type": "stream",
     "text": [
      "img_20341\n",
      "img_20342\n"
     ]
    },
    {
     "name": "stderr",
     "output_type": "stream",
     "text": [
      "Maximum number of clients reacheddisplay-im6.q16: unable to open X server `:1' @ error/display.c/DisplayImageCommand/432.\n",
      "Maximum number of clients reacheddisplay-im6.q16: unable to open X server `:1' @ error/display.c/DisplayImageCommand/432.\n"
     ]
    },
    {
     "name": "stdout",
     "output_type": "stream",
     "text": [
      "img_20343\n",
      "img_20344\n"
     ]
    },
    {
     "name": "stderr",
     "output_type": "stream",
     "text": [
      "Maximum number of clients reacheddisplay-im6.q16: unable to open X server `:1' @ error/display.c/DisplayImageCommand/432.\n",
      "Maximum number of clients reacheddisplay-im6.q16: unable to open X server `:1' @ error/display.c/DisplayImageCommand/432.\n"
     ]
    },
    {
     "name": "stdout",
     "output_type": "stream",
     "text": [
      "img_20345\n",
      "img_20346\n"
     ]
    },
    {
     "name": "stderr",
     "output_type": "stream",
     "text": [
      "Maximum number of clients reacheddisplay-im6.q16: unable to open X server `:1' @ error/display.c/DisplayImageCommand/432.\n",
      "Maximum number of clients reacheddisplay-im6.q16: unable to open X server `:1' @ error/display.c/DisplayImageCommand/432.\n"
     ]
    },
    {
     "name": "stdout",
     "output_type": "stream",
     "text": [
      "img_20347\n",
      "img_20348\n"
     ]
    },
    {
     "name": "stderr",
     "output_type": "stream",
     "text": [
      "Maximum number of clients reacheddisplay-im6.q16: unable to open X server `:1' @ error/display.c/DisplayImageCommand/432.\n",
      "Maximum number of clients reacheddisplay-im6.q16: unable to open X server `:1' @ error/display.c/DisplayImageCommand/432.\n"
     ]
    },
    {
     "name": "stdout",
     "output_type": "stream",
     "text": [
      "img_20349\n",
      "img_20350\n"
     ]
    },
    {
     "name": "stderr",
     "output_type": "stream",
     "text": [
      "Maximum number of clients reacheddisplay-im6.q16: unable to open X server `:1' @ error/display.c/DisplayImageCommand/432.\n",
      "Maximum number of clients reacheddisplay-im6.q16: unable to open X server `:1' @ error/display.c/DisplayImageCommand/432.\n"
     ]
    },
    {
     "name": "stdout",
     "output_type": "stream",
     "text": [
      "img_20351\n",
      "img_20352\n"
     ]
    },
    {
     "name": "stderr",
     "output_type": "stream",
     "text": [
      "Maximum number of clients reacheddisplay-im6.q16: unable to open X server `:1' @ error/display.c/DisplayImageCommand/432.\n",
      "Maximum number of clients reacheddisplay-im6.q16: unable to open X server `:1' @ error/display.c/DisplayImageCommand/432.\n"
     ]
    },
    {
     "name": "stdout",
     "output_type": "stream",
     "text": [
      "img_20353\n",
      "img_20354\n"
     ]
    },
    {
     "name": "stderr",
     "output_type": "stream",
     "text": [
      "Maximum number of clients reacheddisplay-im6.q16: unable to open X server `:1' @ error/display.c/DisplayImageCommand/432.\n",
      "Maximum number of clients reacheddisplay-im6.q16: unable to open X server `:1' @ error/display.c/DisplayImageCommand/432.\n"
     ]
    },
    {
     "name": "stdout",
     "output_type": "stream",
     "text": [
      "img_20355\n",
      "img_20356\n"
     ]
    },
    {
     "name": "stderr",
     "output_type": "stream",
     "text": [
      "Maximum number of clients reacheddisplay-im6.q16: unable to open X server `:1' @ error/display.c/DisplayImageCommand/432.\n",
      "Maximum number of clients reacheddisplay-im6.q16: unable to open X server `:1' @ error/display.c/DisplayImageCommand/432.\n"
     ]
    },
    {
     "name": "stdout",
     "output_type": "stream",
     "text": [
      "img_20357\n",
      "img_20358\n"
     ]
    },
    {
     "name": "stderr",
     "output_type": "stream",
     "text": [
      "Maximum number of clients reacheddisplay-im6.q16: unable to open X server `:1' @ error/display.c/DisplayImageCommand/432.\n",
      "Maximum number of clients reacheddisplay-im6.q16: unable to open X server `:1' @ error/display.c/DisplayImageCommand/432.\n"
     ]
    },
    {
     "name": "stdout",
     "output_type": "stream",
     "text": [
      "img_20359\n",
      "img_20360\n"
     ]
    },
    {
     "name": "stderr",
     "output_type": "stream",
     "text": [
      "Maximum number of clients reacheddisplay-im6.q16: unable to open X server `:1' @ error/display.c/DisplayImageCommand/432.\n",
      "Maximum number of clients reacheddisplay-im6.q16: unable to open X server `:1' @ error/display.c/DisplayImageCommand/432.\n"
     ]
    },
    {
     "name": "stdout",
     "output_type": "stream",
     "text": [
      "img_20361\n",
      "img_20362\n"
     ]
    },
    {
     "name": "stderr",
     "output_type": "stream",
     "text": [
      "Maximum number of clients reacheddisplay-im6.q16: unable to open X server `:1' @ error/display.c/DisplayImageCommand/432.\n",
      "Maximum number of clients reacheddisplay-im6.q16: unable to open X server `:1' @ error/display.c/DisplayImageCommand/432.\n"
     ]
    },
    {
     "name": "stdout",
     "output_type": "stream",
     "text": [
      "img_20363\n",
      "img_20364\n"
     ]
    },
    {
     "name": "stderr",
     "output_type": "stream",
     "text": [
      "Maximum number of clients reacheddisplay-im6.q16: unable to open X server `:1' @ error/display.c/DisplayImageCommand/432.\n",
      "Maximum number of clients reacheddisplay-im6.q16: unable to open X server `:1' @ error/display.c/DisplayImageCommand/432.\n"
     ]
    },
    {
     "name": "stdout",
     "output_type": "stream",
     "text": [
      "img_20365\n",
      "img_20366\n"
     ]
    },
    {
     "name": "stderr",
     "output_type": "stream",
     "text": [
      "Maximum number of clients reacheddisplay-im6.q16: unable to open X server `:1' @ error/display.c/DisplayImageCommand/432.\n",
      "Maximum number of clients reacheddisplay-im6.q16: unable to open X server `:1' @ error/display.c/DisplayImageCommand/432.\n"
     ]
    },
    {
     "name": "stdout",
     "output_type": "stream",
     "text": [
      "img_20367\n",
      "img_20368\n"
     ]
    },
    {
     "name": "stderr",
     "output_type": "stream",
     "text": [
      "Maximum number of clients reacheddisplay-im6.q16: unable to open X server `:1' @ error/display.c/DisplayImageCommand/432.\n",
      "Maximum number of clients reacheddisplay-im6.q16: unable to open X server `:1' @ error/display.c/DisplayImageCommand/432.\n"
     ]
    },
    {
     "name": "stdout",
     "output_type": "stream",
     "text": [
      "img_20369\n",
      "img_20370\n"
     ]
    },
    {
     "name": "stderr",
     "output_type": "stream",
     "text": [
      "Maximum number of clients reacheddisplay-im6.q16: unable to open X server `:1' @ error/display.c/DisplayImageCommand/432.\n",
      "Maximum number of clients reacheddisplay-im6.q16: unable to open X server `:1' @ error/display.c/DisplayImageCommand/432.\n"
     ]
    },
    {
     "name": "stdout",
     "output_type": "stream",
     "text": [
      "img_20371\n",
      "img_20372\n"
     ]
    },
    {
     "name": "stderr",
     "output_type": "stream",
     "text": [
      "Maximum number of clients reacheddisplay-im6.q16: unable to open X server `:1' @ error/display.c/DisplayImageCommand/432.\n",
      "Maximum number of clients reacheddisplay-im6.q16: unable to open X server `:1' @ error/display.c/DisplayImageCommand/432.\n"
     ]
    },
    {
     "name": "stdout",
     "output_type": "stream",
     "text": [
      "img_20373\n",
      "img_20374\n"
     ]
    },
    {
     "name": "stderr",
     "output_type": "stream",
     "text": [
      "Maximum number of clients reacheddisplay-im6.q16: unable to open X server `:1' @ error/display.c/DisplayImageCommand/432.\n",
      "Maximum number of clients reacheddisplay-im6.q16: unable to open X server `:1' @ error/display.c/DisplayImageCommand/432.\n"
     ]
    },
    {
     "name": "stdout",
     "output_type": "stream",
     "text": [
      "img_20375\n",
      "img_20376\n"
     ]
    },
    {
     "name": "stderr",
     "output_type": "stream",
     "text": [
      "Maximum number of clients reacheddisplay-im6.q16: unable to open X server `:1' @ error/display.c/DisplayImageCommand/432.\n",
      "Maximum number of clients reacheddisplay-im6.q16: unable to open X server `:1' @ error/display.c/DisplayImageCommand/432.\n"
     ]
    },
    {
     "name": "stdout",
     "output_type": "stream",
     "text": [
      "img_20377\n",
      "img_20378\n"
     ]
    },
    {
     "name": "stderr",
     "output_type": "stream",
     "text": [
      "Maximum number of clients reacheddisplay-im6.q16: unable to open X server `:1' @ error/display.c/DisplayImageCommand/432.\n",
      "Maximum number of clients reacheddisplay-im6.q16: unable to open X server `:1' @ error/display.c/DisplayImageCommand/432.\n"
     ]
    },
    {
     "name": "stdout",
     "output_type": "stream",
     "text": [
      "img_20379\n",
      "img_20380\n"
     ]
    },
    {
     "name": "stderr",
     "output_type": "stream",
     "text": [
      "Maximum number of clients reacheddisplay-im6.q16: unable to open X server `:1' @ error/display.c/DisplayImageCommand/432.\n",
      "Maximum number of clients reacheddisplay-im6.q16: unable to open X server `:1' @ error/display.c/DisplayImageCommand/432.\n"
     ]
    },
    {
     "name": "stdout",
     "output_type": "stream",
     "text": [
      "img_20381\n",
      "img_20382\n"
     ]
    },
    {
     "name": "stderr",
     "output_type": "stream",
     "text": [
      "Maximum number of clients reacheddisplay-im6.q16: unable to open X server `:1' @ error/display.c/DisplayImageCommand/432.\n",
      "Maximum number of clients reacheddisplay-im6.q16: unable to open X server `:1' @ error/display.c/DisplayImageCommand/432.\n"
     ]
    },
    {
     "name": "stdout",
     "output_type": "stream",
     "text": [
      "img_20383\n",
      "img_20384\n"
     ]
    },
    {
     "name": "stderr",
     "output_type": "stream",
     "text": [
      "Maximum number of clients reacheddisplay-im6.q16: unable to open X server `:1' @ error/display.c/DisplayImageCommand/432.\n",
      "Maximum number of clients reacheddisplay-im6.q16: unable to open X server `:1' @ error/display.c/DisplayImageCommand/432.\n"
     ]
    },
    {
     "name": "stdout",
     "output_type": "stream",
     "text": [
      "img_20385\n",
      "img_20386\n"
     ]
    },
    {
     "name": "stderr",
     "output_type": "stream",
     "text": [
      "Maximum number of clients reacheddisplay-im6.q16: unable to open X server `:1' @ error/display.c/DisplayImageCommand/432.\n",
      "Maximum number of clients reacheddisplay-im6.q16: unable to open X server `:1' @ error/display.c/DisplayImageCommand/432.\n"
     ]
    },
    {
     "name": "stdout",
     "output_type": "stream",
     "text": [
      "img_20387\n",
      "img_20388\n"
     ]
    },
    {
     "name": "stderr",
     "output_type": "stream",
     "text": [
      "Maximum number of clients reacheddisplay-im6.q16: unable to open X server `:1' @ error/display.c/DisplayImageCommand/432.\n",
      "Maximum number of clients reacheddisplay-im6.q16: unable to open X server `:1' @ error/display.c/DisplayImageCommand/432.\n"
     ]
    },
    {
     "name": "stdout",
     "output_type": "stream",
     "text": [
      "img_20389\n",
      "img_20390\n"
     ]
    },
    {
     "name": "stderr",
     "output_type": "stream",
     "text": [
      "Maximum number of clients reacheddisplay-im6.q16: unable to open X server `:1' @ error/display.c/DisplayImageCommand/432.\n",
      "Maximum number of clients reacheddisplay-im6.q16: unable to open X server `:1' @ error/display.c/DisplayImageCommand/432.\n"
     ]
    },
    {
     "name": "stdout",
     "output_type": "stream",
     "text": [
      "img_20391\n",
      "img_20392\n"
     ]
    },
    {
     "name": "stderr",
     "output_type": "stream",
     "text": [
      "Maximum number of clients reacheddisplay-im6.q16: unable to open X server `:1' @ error/display.c/DisplayImageCommand/432.\n",
      "Maximum number of clients reacheddisplay-im6.q16: unable to open X server `:1' @ error/display.c/DisplayImageCommand/432.\n"
     ]
    },
    {
     "name": "stdout",
     "output_type": "stream",
     "text": [
      "img_20393\n",
      "img_20394\n"
     ]
    },
    {
     "name": "stderr",
     "output_type": "stream",
     "text": [
      "Maximum number of clients reacheddisplay-im6.q16: unable to open X server `:1' @ error/display.c/DisplayImageCommand/432.\n",
      "Maximum number of clients reacheddisplay-im6.q16: unable to open X server `:1' @ error/display.c/DisplayImageCommand/432.\n"
     ]
    },
    {
     "name": "stdout",
     "output_type": "stream",
     "text": [
      "img_20395\n",
      "img_20396\n",
      "img_20397\n"
     ]
    },
    {
     "name": "stderr",
     "output_type": "stream",
     "text": [
      "Maximum number of clients reacheddisplay-im6.q16: unable to open X server `:1' @ error/display.c/DisplayImageCommand/432.\n"
     ]
    },
    {
     "ename": "KeyboardInterrupt",
     "evalue": "",
     "output_type": "error",
     "traceback": [
      "\u001b[0;31m---------------------------------------------------------------------------\u001b[0m",
      "\u001b[0;31mAttributeError\u001b[0m                            Traceback (most recent call last)",
      "\u001b[0;32m~/Desktop/py3.7/cv/paddleOCR/lib/python3.7/site-packages/PIL/ImageFile.py\u001b[0m in \u001b[0;36m_save\u001b[0;34m(im, fp, tile, bufsize)\u001b[0m\n\u001b[1;32m    503\u001b[0m     \u001b[0;32mtry\u001b[0m\u001b[0;34m:\u001b[0m\u001b[0;34m\u001b[0m\u001b[0;34m\u001b[0m\u001b[0m\n\u001b[0;32m--> 504\u001b[0;31m         \u001b[0mfh\u001b[0m \u001b[0;34m=\u001b[0m \u001b[0mfp\u001b[0m\u001b[0;34m.\u001b[0m\u001b[0mfileno\u001b[0m\u001b[0;34m(\u001b[0m\u001b[0;34m)\u001b[0m\u001b[0;34m\u001b[0m\u001b[0;34m\u001b[0m\u001b[0m\n\u001b[0m\u001b[1;32m    505\u001b[0m         \u001b[0mfp\u001b[0m\u001b[0;34m.\u001b[0m\u001b[0mflush\u001b[0m\u001b[0;34m(\u001b[0m\u001b[0;34m)\u001b[0m\u001b[0;34m\u001b[0m\u001b[0;34m\u001b[0m\u001b[0m\n",
      "\u001b[0;31mAttributeError\u001b[0m: '_idat' object has no attribute 'fileno'",
      "\nDuring handling of the above exception, another exception occurred:\n",
      "\u001b[0;31mKeyboardInterrupt\u001b[0m                         Traceback (most recent call last)",
      "\u001b[0;32m/tmp/ipykernel_31654/3276964181.py\u001b[0m in \u001b[0;36m<module>\u001b[0;34m\u001b[0m\n\u001b[1;32m     11\u001b[0m             \u001b[0mprint\u001b[0m\u001b[0;34m(\u001b[0m\u001b[0mopend_img\u001b[0m\u001b[0;34m)\u001b[0m\u001b[0;34m\u001b[0m\u001b[0;34m\u001b[0m\u001b[0m\n\u001b[1;32m     12\u001b[0m             \u001b[0mim_show\u001b[0m \u001b[0;34m=\u001b[0m \u001b[0mdraw_ocr_result\u001b[0m\u001b[0;34m(\u001b[0m\u001b[0mimg_path\u001b[0m\u001b[0;34m+\u001b[0m\u001b[0mopend_img\u001b[0m\u001b[0;34m+\u001b[0m\u001b[0;34m\".jpg\"\u001b[0m\u001b[0;34m,\u001b[0m \u001b[0mpts_buf\u001b[0m\u001b[0;34m,\u001b[0m \u001b[0mtxt_buf\u001b[0m\u001b[0;34m,\u001b[0m \u001b[0;32mNone\u001b[0m\u001b[0;34m)\u001b[0m\u001b[0;34m\u001b[0m\u001b[0;34m\u001b[0m\u001b[0m\n\u001b[0;32m---> 13\u001b[0;31m             \u001b[0mim_show\u001b[0m\u001b[0;34m.\u001b[0m\u001b[0mshow\u001b[0m\u001b[0;34m(\u001b[0m\u001b[0;34m)\u001b[0m\u001b[0;34m\u001b[0m\u001b[0;34m\u001b[0m\u001b[0m\n\u001b[0m\u001b[1;32m     14\u001b[0m             \u001b[0;31m#im_show = Image.fromarray(im_show)\u001b[0m\u001b[0;34m\u001b[0m\u001b[0;34m\u001b[0m\u001b[0;34m\u001b[0m\u001b[0m\n\u001b[1;32m     15\u001b[0m             \u001b[0mim_show\u001b[0m\u001b[0;34m.\u001b[0m\u001b[0msave\u001b[0m\u001b[0;34m(\u001b[0m\u001b[0mout_path\u001b[0m\u001b[0;34m+\u001b[0m\u001b[0mopend_img\u001b[0m\u001b[0;34m+\u001b[0m\u001b[0;34m\".jpg\"\u001b[0m\u001b[0;34m)\u001b[0m\u001b[0;34m\u001b[0m\u001b[0;34m\u001b[0m\u001b[0m\n",
      "\u001b[0;32m~/Desktop/py3.7/cv/paddleOCR/lib/python3.7/site-packages/PIL/Image.py\u001b[0m in \u001b[0;36mshow\u001b[0;34m(self, title, command)\u001b[0m\n\u001b[1;32m   2287\u001b[0m             )\n\u001b[1;32m   2288\u001b[0m \u001b[0;34m\u001b[0m\u001b[0m\n\u001b[0;32m-> 2289\u001b[0;31m         \u001b[0m_show\u001b[0m\u001b[0;34m(\u001b[0m\u001b[0mself\u001b[0m\u001b[0;34m,\u001b[0m \u001b[0mtitle\u001b[0m\u001b[0;34m=\u001b[0m\u001b[0mtitle\u001b[0m\u001b[0;34m,\u001b[0m \u001b[0mcommand\u001b[0m\u001b[0;34m=\u001b[0m\u001b[0mcommand\u001b[0m\u001b[0;34m)\u001b[0m\u001b[0;34m\u001b[0m\u001b[0;34m\u001b[0m\u001b[0m\n\u001b[0m\u001b[1;32m   2290\u001b[0m \u001b[0;34m\u001b[0m\u001b[0m\n\u001b[1;32m   2291\u001b[0m     \u001b[0;32mdef\u001b[0m \u001b[0msplit\u001b[0m\u001b[0;34m(\u001b[0m\u001b[0mself\u001b[0m\u001b[0;34m)\u001b[0m\u001b[0;34m:\u001b[0m\u001b[0;34m\u001b[0m\u001b[0;34m\u001b[0m\u001b[0m\n",
      "\u001b[0;32m~/Desktop/py3.7/cv/paddleOCR/lib/python3.7/site-packages/PIL/Image.py\u001b[0m in \u001b[0;36m_show\u001b[0;34m(image, **options)\u001b[0m\n\u001b[1;32m   3245\u001b[0m \u001b[0;32mdef\u001b[0m \u001b[0m_show\u001b[0m\u001b[0;34m(\u001b[0m\u001b[0mimage\u001b[0m\u001b[0;34m,\u001b[0m \u001b[0;34m**\u001b[0m\u001b[0moptions\u001b[0m\u001b[0;34m)\u001b[0m\u001b[0;34m:\u001b[0m\u001b[0;34m\u001b[0m\u001b[0;34m\u001b[0m\u001b[0m\n\u001b[1;32m   3246\u001b[0m     \u001b[0moptions\u001b[0m\u001b[0;34m[\u001b[0m\u001b[0;34m\"_internal_pillow\"\u001b[0m\u001b[0;34m]\u001b[0m \u001b[0;34m=\u001b[0m \u001b[0;32mTrue\u001b[0m\u001b[0;34m\u001b[0m\u001b[0;34m\u001b[0m\u001b[0m\n\u001b[0;32m-> 3247\u001b[0;31m     \u001b[0m_showxv\u001b[0m\u001b[0;34m(\u001b[0m\u001b[0mimage\u001b[0m\u001b[0;34m,\u001b[0m \u001b[0;34m**\u001b[0m\u001b[0moptions\u001b[0m\u001b[0;34m)\u001b[0m\u001b[0;34m\u001b[0m\u001b[0;34m\u001b[0m\u001b[0m\n\u001b[0m\u001b[1;32m   3248\u001b[0m \u001b[0;34m\u001b[0m\u001b[0m\n\u001b[1;32m   3249\u001b[0m \u001b[0;34m\u001b[0m\u001b[0m\n",
      "\u001b[0;32m~/Desktop/py3.7/cv/paddleOCR/lib/python3.7/site-packages/PIL/Image.py\u001b[0m in \u001b[0;36m_showxv\u001b[0;34m(image, title, **options)\u001b[0m\n\u001b[1;32m   3259\u001b[0m             \u001b[0mDeprecationWarning\u001b[0m\u001b[0;34m,\u001b[0m\u001b[0;34m\u001b[0m\u001b[0;34m\u001b[0m\u001b[0m\n\u001b[1;32m   3260\u001b[0m         )\n\u001b[0;32m-> 3261\u001b[0;31m     \u001b[0mImageShow\u001b[0m\u001b[0;34m.\u001b[0m\u001b[0mshow\u001b[0m\u001b[0;34m(\u001b[0m\u001b[0mimage\u001b[0m\u001b[0;34m,\u001b[0m \u001b[0mtitle\u001b[0m\u001b[0;34m,\u001b[0m \u001b[0;34m**\u001b[0m\u001b[0moptions\u001b[0m\u001b[0;34m)\u001b[0m\u001b[0;34m\u001b[0m\u001b[0;34m\u001b[0m\u001b[0m\n\u001b[0m\u001b[1;32m   3262\u001b[0m \u001b[0;34m\u001b[0m\u001b[0m\n\u001b[1;32m   3263\u001b[0m \u001b[0;34m\u001b[0m\u001b[0m\n",
      "\u001b[0;32m~/Desktop/py3.7/cv/paddleOCR/lib/python3.7/site-packages/PIL/ImageShow.py\u001b[0m in \u001b[0;36mshow\u001b[0;34m(image, title, **options)\u001b[0m\n\u001b[1;32m     54\u001b[0m     \"\"\"\n\u001b[1;32m     55\u001b[0m     \u001b[0;32mfor\u001b[0m \u001b[0mviewer\u001b[0m \u001b[0;32min\u001b[0m \u001b[0m_viewers\u001b[0m\u001b[0;34m:\u001b[0m\u001b[0;34m\u001b[0m\u001b[0;34m\u001b[0m\u001b[0m\n\u001b[0;32m---> 56\u001b[0;31m         \u001b[0;32mif\u001b[0m \u001b[0mviewer\u001b[0m\u001b[0;34m.\u001b[0m\u001b[0mshow\u001b[0m\u001b[0;34m(\u001b[0m\u001b[0mimage\u001b[0m\u001b[0;34m,\u001b[0m \u001b[0mtitle\u001b[0m\u001b[0;34m=\u001b[0m\u001b[0mtitle\u001b[0m\u001b[0;34m,\u001b[0m \u001b[0;34m**\u001b[0m\u001b[0moptions\u001b[0m\u001b[0;34m)\u001b[0m\u001b[0;34m:\u001b[0m\u001b[0;34m\u001b[0m\u001b[0;34m\u001b[0m\u001b[0m\n\u001b[0m\u001b[1;32m     57\u001b[0m             \u001b[0;32mreturn\u001b[0m \u001b[0;36m1\u001b[0m\u001b[0;34m\u001b[0m\u001b[0;34m\u001b[0m\u001b[0m\n\u001b[1;32m     58\u001b[0m     \u001b[0;32mreturn\u001b[0m \u001b[0;36m0\u001b[0m\u001b[0;34m\u001b[0m\u001b[0;34m\u001b[0m\u001b[0m\n",
      "\u001b[0;32m~/Desktop/py3.7/cv/paddleOCR/lib/python3.7/site-packages/PIL/ImageShow.py\u001b[0m in \u001b[0;36mshow\u001b[0;34m(self, image, **options)\u001b[0m\n\u001b[1;32m     78\u001b[0m                 \u001b[0mimage\u001b[0m \u001b[0;34m=\u001b[0m \u001b[0mimage\u001b[0m\u001b[0;34m.\u001b[0m\u001b[0mconvert\u001b[0m\u001b[0;34m(\u001b[0m\u001b[0mbase\u001b[0m\u001b[0;34m)\u001b[0m\u001b[0;34m\u001b[0m\u001b[0;34m\u001b[0m\u001b[0m\n\u001b[1;32m     79\u001b[0m \u001b[0;34m\u001b[0m\u001b[0m\n\u001b[0;32m---> 80\u001b[0;31m         \u001b[0;32mreturn\u001b[0m \u001b[0mself\u001b[0m\u001b[0;34m.\u001b[0m\u001b[0mshow_image\u001b[0m\u001b[0;34m(\u001b[0m\u001b[0mimage\u001b[0m\u001b[0;34m,\u001b[0m \u001b[0;34m**\u001b[0m\u001b[0moptions\u001b[0m\u001b[0;34m)\u001b[0m\u001b[0;34m\u001b[0m\u001b[0;34m\u001b[0m\u001b[0m\n\u001b[0m\u001b[1;32m     81\u001b[0m \u001b[0;34m\u001b[0m\u001b[0m\n\u001b[1;32m     82\u001b[0m     \u001b[0;31m# hook methods\u001b[0m\u001b[0;34m\u001b[0m\u001b[0;34m\u001b[0m\u001b[0;34m\u001b[0m\u001b[0m\n",
      "\u001b[0;32m~/Desktop/py3.7/cv/paddleOCR/lib/python3.7/site-packages/PIL/ImageShow.py\u001b[0m in \u001b[0;36mshow_image\u001b[0;34m(self, image, **options)\u001b[0m\n\u001b[1;32m    104\u001b[0m     \u001b[0;32mdef\u001b[0m \u001b[0mshow_image\u001b[0m\u001b[0;34m(\u001b[0m\u001b[0mself\u001b[0m\u001b[0;34m,\u001b[0m \u001b[0mimage\u001b[0m\u001b[0;34m,\u001b[0m \u001b[0;34m**\u001b[0m\u001b[0moptions\u001b[0m\u001b[0;34m)\u001b[0m\u001b[0;34m:\u001b[0m\u001b[0;34m\u001b[0m\u001b[0;34m\u001b[0m\u001b[0m\n\u001b[1;32m    105\u001b[0m         \u001b[0;34m\"\"\"Display the given image.\"\"\"\u001b[0m\u001b[0;34m\u001b[0m\u001b[0;34m\u001b[0m\u001b[0m\n\u001b[0;32m--> 106\u001b[0;31m         \u001b[0;32mreturn\u001b[0m \u001b[0mself\u001b[0m\u001b[0;34m.\u001b[0m\u001b[0mshow_file\u001b[0m\u001b[0;34m(\u001b[0m\u001b[0mself\u001b[0m\u001b[0;34m.\u001b[0m\u001b[0msave_image\u001b[0m\u001b[0;34m(\u001b[0m\u001b[0mimage\u001b[0m\u001b[0;34m)\u001b[0m\u001b[0;34m,\u001b[0m \u001b[0;34m**\u001b[0m\u001b[0moptions\u001b[0m\u001b[0;34m)\u001b[0m\u001b[0;34m\u001b[0m\u001b[0;34m\u001b[0m\u001b[0m\n\u001b[0m\u001b[1;32m    107\u001b[0m \u001b[0;34m\u001b[0m\u001b[0m\n\u001b[1;32m    108\u001b[0m     \u001b[0;32mdef\u001b[0m \u001b[0mshow_file\u001b[0m\u001b[0;34m(\u001b[0m\u001b[0mself\u001b[0m\u001b[0;34m,\u001b[0m \u001b[0mfile\u001b[0m\u001b[0;34m,\u001b[0m \u001b[0;34m**\u001b[0m\u001b[0moptions\u001b[0m\u001b[0;34m)\u001b[0m\u001b[0;34m:\u001b[0m\u001b[0;34m\u001b[0m\u001b[0;34m\u001b[0m\u001b[0m\n",
      "\u001b[0;32m~/Desktop/py3.7/cv/paddleOCR/lib/python3.7/site-packages/PIL/ImageShow.py\u001b[0m in \u001b[0;36msave_image\u001b[0;34m(self, image)\u001b[0m\n\u001b[1;32m    100\u001b[0m     \u001b[0;32mdef\u001b[0m \u001b[0msave_image\u001b[0m\u001b[0;34m(\u001b[0m\u001b[0mself\u001b[0m\u001b[0;34m,\u001b[0m \u001b[0mimage\u001b[0m\u001b[0;34m)\u001b[0m\u001b[0;34m:\u001b[0m\u001b[0;34m\u001b[0m\u001b[0;34m\u001b[0m\u001b[0m\n\u001b[1;32m    101\u001b[0m         \u001b[0;34m\"\"\"Save to temporary file and return filename.\"\"\"\u001b[0m\u001b[0;34m\u001b[0m\u001b[0;34m\u001b[0m\u001b[0m\n\u001b[0;32m--> 102\u001b[0;31m         \u001b[0;32mreturn\u001b[0m \u001b[0mimage\u001b[0m\u001b[0;34m.\u001b[0m\u001b[0m_dump\u001b[0m\u001b[0;34m(\u001b[0m\u001b[0mformat\u001b[0m\u001b[0;34m=\u001b[0m\u001b[0mself\u001b[0m\u001b[0;34m.\u001b[0m\u001b[0mget_format\u001b[0m\u001b[0;34m(\u001b[0m\u001b[0mimage\u001b[0m\u001b[0;34m)\u001b[0m\u001b[0;34m,\u001b[0m \u001b[0;34m**\u001b[0m\u001b[0mself\u001b[0m\u001b[0;34m.\u001b[0m\u001b[0moptions\u001b[0m\u001b[0;34m)\u001b[0m\u001b[0;34m\u001b[0m\u001b[0;34m\u001b[0m\u001b[0m\n\u001b[0m\u001b[1;32m    103\u001b[0m \u001b[0;34m\u001b[0m\u001b[0m\n\u001b[1;32m    104\u001b[0m     \u001b[0;32mdef\u001b[0m \u001b[0mshow_image\u001b[0m\u001b[0;34m(\u001b[0m\u001b[0mself\u001b[0m\u001b[0;34m,\u001b[0m \u001b[0mimage\u001b[0m\u001b[0;34m,\u001b[0m \u001b[0;34m**\u001b[0m\u001b[0moptions\u001b[0m\u001b[0;34m)\u001b[0m\u001b[0;34m:\u001b[0m\u001b[0;34m\u001b[0m\u001b[0;34m\u001b[0m\u001b[0m\n",
      "\u001b[0;32m~/Desktop/py3.7/cv/paddleOCR/lib/python3.7/site-packages/PIL/Image.py\u001b[0m in \u001b[0;36m_dump\u001b[0;34m(self, file, format, **options)\u001b[0m\n\u001b[1;32m    644\u001b[0m             \u001b[0mself\u001b[0m\u001b[0;34m.\u001b[0m\u001b[0mim\u001b[0m\u001b[0;34m.\u001b[0m\u001b[0msave_ppm\u001b[0m\u001b[0;34m(\u001b[0m\u001b[0mfilename\u001b[0m\u001b[0;34m)\u001b[0m\u001b[0;34m\u001b[0m\u001b[0;34m\u001b[0m\u001b[0m\n\u001b[1;32m    645\u001b[0m         \u001b[0;32melse\u001b[0m\u001b[0;34m:\u001b[0m\u001b[0;34m\u001b[0m\u001b[0;34m\u001b[0m\u001b[0m\n\u001b[0;32m--> 646\u001b[0;31m             \u001b[0mself\u001b[0m\u001b[0;34m.\u001b[0m\u001b[0msave\u001b[0m\u001b[0;34m(\u001b[0m\u001b[0mfilename\u001b[0m\u001b[0;34m,\u001b[0m \u001b[0mformat\u001b[0m\u001b[0;34m,\u001b[0m \u001b[0;34m**\u001b[0m\u001b[0moptions\u001b[0m\u001b[0;34m)\u001b[0m\u001b[0;34m\u001b[0m\u001b[0;34m\u001b[0m\u001b[0m\n\u001b[0m\u001b[1;32m    647\u001b[0m \u001b[0;34m\u001b[0m\u001b[0m\n\u001b[1;32m    648\u001b[0m         \u001b[0;32mreturn\u001b[0m \u001b[0mfilename\u001b[0m\u001b[0;34m\u001b[0m\u001b[0;34m\u001b[0m\u001b[0m\n",
      "\u001b[0;32m~/Desktop/py3.7/cv/paddleOCR/lib/python3.7/site-packages/PIL/Image.py\u001b[0m in \u001b[0;36msave\u001b[0;34m(self, fp, format, **params)\u001b[0m\n\u001b[1;32m   2233\u001b[0m \u001b[0;34m\u001b[0m\u001b[0m\n\u001b[1;32m   2234\u001b[0m         \u001b[0;32mtry\u001b[0m\u001b[0;34m:\u001b[0m\u001b[0;34m\u001b[0m\u001b[0;34m\u001b[0m\u001b[0m\n\u001b[0;32m-> 2235\u001b[0;31m             \u001b[0msave_handler\u001b[0m\u001b[0;34m(\u001b[0m\u001b[0mself\u001b[0m\u001b[0;34m,\u001b[0m \u001b[0mfp\u001b[0m\u001b[0;34m,\u001b[0m \u001b[0mfilename\u001b[0m\u001b[0;34m)\u001b[0m\u001b[0;34m\u001b[0m\u001b[0;34m\u001b[0m\u001b[0m\n\u001b[0m\u001b[1;32m   2236\u001b[0m         \u001b[0;32mfinally\u001b[0m\u001b[0;34m:\u001b[0m\u001b[0;34m\u001b[0m\u001b[0;34m\u001b[0m\u001b[0m\n\u001b[1;32m   2237\u001b[0m             \u001b[0;31m# do what we can to clean up\u001b[0m\u001b[0;34m\u001b[0m\u001b[0;34m\u001b[0m\u001b[0;34m\u001b[0m\u001b[0m\n",
      "\u001b[0;32m~/Desktop/py3.7/cv/paddleOCR/lib/python3.7/site-packages/PIL/PngImagePlugin.py\u001b[0m in \u001b[0;36m_save\u001b[0;34m(im, fp, filename, chunk, save_all)\u001b[0m\n\u001b[1;32m   1347\u001b[0m         \u001b[0m_write_multiple_frames\u001b[0m\u001b[0;34m(\u001b[0m\u001b[0mim\u001b[0m\u001b[0;34m,\u001b[0m \u001b[0mfp\u001b[0m\u001b[0;34m,\u001b[0m \u001b[0mchunk\u001b[0m\u001b[0;34m,\u001b[0m \u001b[0mrawmode\u001b[0m\u001b[0;34m)\u001b[0m\u001b[0;34m\u001b[0m\u001b[0;34m\u001b[0m\u001b[0m\n\u001b[1;32m   1348\u001b[0m     \u001b[0;32melse\u001b[0m\u001b[0;34m:\u001b[0m\u001b[0;34m\u001b[0m\u001b[0;34m\u001b[0m\u001b[0m\n\u001b[0;32m-> 1349\u001b[0;31m         \u001b[0mImageFile\u001b[0m\u001b[0;34m.\u001b[0m\u001b[0m_save\u001b[0m\u001b[0;34m(\u001b[0m\u001b[0mim\u001b[0m\u001b[0;34m,\u001b[0m \u001b[0m_idat\u001b[0m\u001b[0;34m(\u001b[0m\u001b[0mfp\u001b[0m\u001b[0;34m,\u001b[0m \u001b[0mchunk\u001b[0m\u001b[0;34m)\u001b[0m\u001b[0;34m,\u001b[0m \u001b[0;34m[\u001b[0m\u001b[0;34m(\u001b[0m\u001b[0;34m\"zip\"\u001b[0m\u001b[0;34m,\u001b[0m \u001b[0;34m(\u001b[0m\u001b[0;36m0\u001b[0m\u001b[0;34m,\u001b[0m \u001b[0;36m0\u001b[0m\u001b[0;34m)\u001b[0m \u001b[0;34m+\u001b[0m \u001b[0mim\u001b[0m\u001b[0;34m.\u001b[0m\u001b[0msize\u001b[0m\u001b[0;34m,\u001b[0m \u001b[0;36m0\u001b[0m\u001b[0;34m,\u001b[0m \u001b[0mrawmode\u001b[0m\u001b[0;34m)\u001b[0m\u001b[0;34m]\u001b[0m\u001b[0;34m)\u001b[0m\u001b[0;34m\u001b[0m\u001b[0;34m\u001b[0m\u001b[0m\n\u001b[0m\u001b[1;32m   1350\u001b[0m \u001b[0;34m\u001b[0m\u001b[0m\n\u001b[1;32m   1351\u001b[0m     \u001b[0;32mif\u001b[0m \u001b[0minfo\u001b[0m\u001b[0;34m:\u001b[0m\u001b[0;34m\u001b[0m\u001b[0;34m\u001b[0m\u001b[0m\n",
      "\u001b[0;32m~/Desktop/py3.7/cv/paddleOCR/lib/python3.7/site-packages/PIL/ImageFile.py\u001b[0m in \u001b[0;36m_save\u001b[0;34m(im, fp, tile, bufsize)\u001b[0m\n\u001b[1;32m    516\u001b[0m             \u001b[0;32melse\u001b[0m\u001b[0;34m:\u001b[0m\u001b[0;34m\u001b[0m\u001b[0;34m\u001b[0m\u001b[0m\n\u001b[1;32m    517\u001b[0m                 \u001b[0;32mwhile\u001b[0m \u001b[0;32mTrue\u001b[0m\u001b[0;34m:\u001b[0m\u001b[0;34m\u001b[0m\u001b[0;34m\u001b[0m\u001b[0m\n\u001b[0;32m--> 518\u001b[0;31m                     \u001b[0ml\u001b[0m\u001b[0;34m,\u001b[0m \u001b[0ms\u001b[0m\u001b[0;34m,\u001b[0m \u001b[0md\u001b[0m \u001b[0;34m=\u001b[0m \u001b[0me\u001b[0m\u001b[0;34m.\u001b[0m\u001b[0mencode\u001b[0m\u001b[0;34m(\u001b[0m\u001b[0mbufsize\u001b[0m\u001b[0;34m)\u001b[0m\u001b[0;34m\u001b[0m\u001b[0;34m\u001b[0m\u001b[0m\n\u001b[0m\u001b[1;32m    519\u001b[0m                     \u001b[0mfp\u001b[0m\u001b[0;34m.\u001b[0m\u001b[0mwrite\u001b[0m\u001b[0;34m(\u001b[0m\u001b[0md\u001b[0m\u001b[0;34m)\u001b[0m\u001b[0;34m\u001b[0m\u001b[0;34m\u001b[0m\u001b[0m\n\u001b[1;32m    520\u001b[0m                     \u001b[0;32mif\u001b[0m \u001b[0ms\u001b[0m\u001b[0;34m:\u001b[0m\u001b[0;34m\u001b[0m\u001b[0;34m\u001b[0m\u001b[0m\n",
      "\u001b[0;31mKeyboardInterrupt\u001b[0m: "
     ]
    }
   ],
   "source": [
    "opend_img = None\n",
    "pts_buf=[]\n",
    "txt_buf=[]\n",
    "for index, row in df.iterrows():\n",
    "    current_img = row.imgs\n",
    "    if opend_img == current_img:\n",
    "        pts_buf.append(np.array(chunks(list(row[1:9].values),2)))\n",
    "        txt_buf.append(row.txt)\n",
    "    else:#new pic\n",
    "        if opend_img:#save previous img data if exist\n",
    "            print(opend_img)\n",
    "            im_show = draw_ocr_result(img_path+opend_img+\".jpg\", pts_buf, txt_buf, None)\n",
    "            #im_show.show()\n",
    "            #im_show = Image.fromarray(im_show)\n",
    "            im_show.save(out_path+opend_img+\".jpg\")\n",
    "            pts_buf,txt_buf=[],[]\n",
    "        opend_img = current_img\n",
    "        pts_buf.append(np.array(chunks(list(row[1:9].values),2)))\n",
    "        txt_buf.append(row.txt)\n",
    "        "
   ]
  },
  {
   "cell_type": "code",
   "execution_count": 27,
   "id": "df03a53d",
   "metadata": {},
   "outputs": [
    {
     "data": {
      "text/plain": [
       "[[[807, 875], [935, 863], [940, 915], [812, 927]],\n",
       " [[942, 859], [1093, 871], [1088, 928], [937, 916]],\n",
       " [[159, 823], [164, 818], [169, 822], [163, 828]],\n",
       " [[190, 768], [195, 763], [200, 768], [195, 773]],\n",
       " [[1162, 721], [1170, 721], [1170, 734], [1162, 734]],\n",
       " [[254, 670], [712, 624], [739, 896], [281, 942]],\n",
       " [[224, 694], [230, 694], [230, 699], [224, 699]],\n",
       " [[224, 690], [230, 690], [230, 695], [224, 695]],\n",
       " [[224, 678], [230, 678], [230, 683], [224, 683]],\n",
       " [[223, 673], [234, 673], [234, 680], [223, 680]],\n",
       " [[224, 670], [230, 670], [230, 675], [224, 675]],\n",
       " [[612, 578], [1286, 537], [1307, 893], [632, 934]],\n",
       " [[367, 526], [1226, 387], [1256, 575], [397, 714]]]"
      ]
     },
     "execution_count": 27,
     "metadata": {},
     "output_type": "execute_result"
    }
   ],
   "source": [
    "pts_buf"
   ]
  },
  {
   "cell_type": "code",
   "execution_count": null,
   "id": "46ee3aaa",
   "metadata": {},
   "outputs": [],
   "source": []
  }
 ],
 "metadata": {
  "kernelspec": {
   "display_name": "Python 3 (ipykernel)",
   "language": "python",
   "name": "python3"
  },
  "language_info": {
   "codemirror_mode": {
    "name": "ipython",
    "version": 3
   },
   "file_extension": ".py",
   "mimetype": "text/x-python",
   "name": "python",
   "nbconvert_exporter": "python",
   "pygments_lexer": "ipython3",
   "version": "3.7.3"
  }
 },
 "nbformat": 4,
 "nbformat_minor": 5
}
