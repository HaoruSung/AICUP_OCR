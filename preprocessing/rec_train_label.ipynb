{
 "cells": [
  {
   "cell_type": "code",
   "execution_count": 1,
   "id": "48180e92",
   "metadata": {
    "scrolled": true
   },
   "outputs": [
    {
     "name": "stderr",
     "output_type": "stream",
     "text": [
      "/home/mark/Desktop/py3.7/cv/paddleOCR/lib/python3.7/site-packages/pandas/compat/__init__.py:124: UserWarning: Could not import the lzma module. Your installed Python is incomplete. Attempting to use lzma compression will result in a RuntimeError.\n",
      "  warnings.warn(msg)\n"
     ]
    }
   ],
   "source": [
    "import pandas as pd\n",
    "import os \n",
    "import numpy as np"
   ]
  },
  {
   "cell_type": "code",
   "execution_count": 2,
   "id": "a448138e",
   "metadata": {},
   "outputs": [],
   "source": [
    "#directory must contain public foler\n",
    "dataset_path = \"/home/mark/Desktop/py3.7/cv/datasets/ai_cup_f/\"\n",
    "#where you save img\n",
    "out_path = dataset_path+\"train_cut/\""
   ]
  },
  {
   "cell_type": "code",
   "execution_count": 3,
   "id": "80481c70",
   "metadata": {},
   "outputs": [],
   "source": [
    "def split(word):\n",
    "    return [char for char in word]"
   ]
  },
  {
   "cell_type": "code",
   "execution_count": 44,
   "id": "fe46e5cf",
   "metadata": {},
   "outputs": [],
   "source": [
    "df = pd.read_csv(dataset_path+\"labels.csv\",encoding = \"utf8\")\n",
    "df = df.fillna(\"###\")"
   ]
  },
  {
   "cell_type": "code",
   "execution_count": 5,
   "id": "0b601f56",
   "metadata": {},
   "outputs": [],
   "source": [
    "txts = df.labels.values"
   ]
  },
  {
   "cell_type": "code",
   "execution_count": 6,
   "id": "55af9752",
   "metadata": {},
   "outputs": [
    {
     "data": {
      "text/plain": [
       "['多']"
      ]
     },
     "execution_count": 6,
     "metadata": {},
     "output_type": "execute_result"
    }
   ],
   "source": [
    "split(txts[0])"
   ]
  },
  {
   "cell_type": "code",
   "execution_count": 78,
   "id": "856e1100",
   "metadata": {},
   "outputs": [
    {
     "data": {
      "text/plain": [
       "650311"
      ]
     },
     "execution_count": 78,
     "metadata": {},
     "output_type": "execute_result"
    }
   ],
   "source": [
    "char_lst=[]\n",
    "for txt in txts:\n",
    "    char_lst += split(txt)\n",
    "len(char_lst)"
   ]
  },
  {
   "cell_type": "code",
   "execution_count": 55,
   "id": "d46e9d6d",
   "metadata": {},
   "outputs": [
    {
     "name": "stdout",
     "output_type": "stream",
     "text": [
      "<class 'pandas.core.frame.DataFrame'>\n",
      "RangeIndex: 303408 entries, 0 to 303407\n",
      "Data columns (total 11 columns):\n",
      " #   Column  Non-Null Count   Dtype \n",
      "---  ------  --------------   ----- \n",
      " 0   imgs    303408 non-null  object\n",
      " 1   ids     303408 non-null  int64 \n",
      " 2   pt1     303408 non-null  int64 \n",
      " 3   pt2     303408 non-null  int64 \n",
      " 4   pt3     303408 non-null  int64 \n",
      " 5   pt4     303408 non-null  int64 \n",
      " 6   pt5     303408 non-null  int64 \n",
      " 7   pt6     303408 non-null  int64 \n",
      " 8   pt7     303408 non-null  int64 \n",
      " 9   pt8     303408 non-null  int64 \n",
      " 10  labels  303408 non-null  object\n",
      "dtypes: int64(9), object(2)\n",
      "memory usage: 25.5+ MB\n"
     ]
    }
   ],
   "source": [
    "df.info()"
   ]
  },
  {
   "cell_type": "code",
   "execution_count": 8,
   "id": "d598f3ec",
   "metadata": {},
   "outputs": [],
   "source": [
    "with open(dataset_path+\"train_all_txt.txt\",\"w\",encoding=\"utf8\") as f:\n",
    "    for word in df.labels:\n",
    "        f.write(word+\"\\n\")"
   ]
  },
  {
   "cell_type": "code",
   "execution_count": 9,
   "id": "841a81f1",
   "metadata": {},
   "outputs": [
    {
     "name": "stdout",
     "output_type": "stream",
     "text": [
      "img_7818 選\n"
     ]
    }
   ],
   "source": [
    "imgs = list(df.imgs)\n",
    "labels = list(df.labels)\n",
    "print(imgs[2],labels[2])"
   ]
  },
  {
   "cell_type": "code",
   "execution_count": 10,
   "id": "68a5da02",
   "metadata": {},
   "outputs": [],
   "source": [
    "imgs=[]\n",
    "labels=[]"
   ]
  },
  {
   "cell_type": "code",
   "execution_count": 42,
   "id": "d195c13c",
   "metadata": {},
   "outputs": [
    {
     "ename": "FileNotFoundError",
     "evalue": "[Errno 2] No such file or directory: '/home/mark/Desktop/py3.7/cv/datasets/ai_cup_f/labels.txt'",
     "output_type": "error",
     "traceback": [
      "\u001b[0;31m---------------------------------------------------------------------------\u001b[0m",
      "\u001b[0;31mFileNotFoundError\u001b[0m                         Traceback (most recent call last)",
      "\u001b[0;32m/tmp/ipykernel_10949/2528339785.py\u001b[0m in \u001b[0;36m<module>\u001b[0;34m\u001b[0m\n\u001b[0;32m----> 1\u001b[0;31m \u001b[0mf\u001b[0m \u001b[0;34m=\u001b[0m \u001b[0mopen\u001b[0m\u001b[0;34m(\u001b[0m\u001b[0mdataset_path\u001b[0m\u001b[0;34m+\u001b[0m\u001b[0;34m\"labels.txt\"\u001b[0m\u001b[0;34m,\u001b[0m\u001b[0;34m'r'\u001b[0m\u001b[0;34m,\u001b[0m\u001b[0mencoding\u001b[0m\u001b[0;34m=\u001b[0m\u001b[0;34m'utf8'\u001b[0m\u001b[0;34m)\u001b[0m\u001b[0;34m\u001b[0m\u001b[0;34m\u001b[0m\u001b[0m\n\u001b[0m\u001b[1;32m      2\u001b[0m \u001b[0mline\u001b[0m \u001b[0;34m=\u001b[0m \u001b[0mf\u001b[0m\u001b[0;34m.\u001b[0m\u001b[0mreadline\u001b[0m\u001b[0;34m(\u001b[0m\u001b[0;34m)\u001b[0m\u001b[0;34m\u001b[0m\u001b[0;34m\u001b[0m\u001b[0m\n\u001b[1;32m      3\u001b[0m \u001b[0;32mwhile\u001b[0m\u001b[0;34m(\u001b[0m\u001b[0mline\u001b[0m\u001b[0;34m)\u001b[0m\u001b[0;34m:\u001b[0m\u001b[0;34m\u001b[0m\u001b[0;34m\u001b[0m\u001b[0m\n\u001b[1;32m      4\u001b[0m     \u001b[0mline_buf\u001b[0m \u001b[0;34m=\u001b[0m \u001b[0mline\u001b[0m\u001b[0;34m.\u001b[0m\u001b[0mreplace\u001b[0m\u001b[0;34m(\u001b[0m\u001b[0;34m'\\n'\u001b[0m\u001b[0;34m,\u001b[0m\u001b[0;34m''\u001b[0m\u001b[0;34m)\u001b[0m\u001b[0;34m.\u001b[0m\u001b[0msplit\u001b[0m\u001b[0;34m(\u001b[0m\u001b[0;34m'\\t'\u001b[0m\u001b[0;34m)\u001b[0m\u001b[0;34m\u001b[0m\u001b[0;34m\u001b[0m\u001b[0m\n\u001b[1;32m      5\u001b[0m     \u001b[0mimgs\u001b[0m\u001b[0;34m.\u001b[0m\u001b[0mappend\u001b[0m\u001b[0;34m(\u001b[0m\u001b[0mline_buf\u001b[0m\u001b[0;34m[\u001b[0m\u001b[0;36m0\u001b[0m\u001b[0;34m]\u001b[0m\u001b[0;34m)\u001b[0m\u001b[0;34m\u001b[0m\u001b[0;34m\u001b[0m\u001b[0m\n",
      "\u001b[0;31mFileNotFoundError\u001b[0m: [Errno 2] No such file or directory: '/home/mark/Desktop/py3.7/cv/datasets/ai_cup_f/labels.txt'"
     ]
    }
   ],
   "source": [
    "f = open(dataset_path+\"labels.txt\",'r',encoding='utf8')\n",
    "line = f.readline()\n",
    "while(line):\n",
    "    line_buf = line.replace('\\n','').split('\\t')\n",
    "    imgs.append(line_buf[0])\n",
    "    labels.append(line_buf[1])\n",
    "    line=f.readline()\n",
    "f.close()\n",
    "print(len(imgs),len(labels))"
   ]
  },
  {
   "cell_type": "code",
   "execution_count": 12,
   "id": "08bd3a6f",
   "metadata": {},
   "outputs": [
    {
     "name": "stdout",
     "output_type": "stream",
     "text": [
      "<class 'pandas.core.frame.DataFrame'>\n",
      "RangeIndex: 0 entries\n",
      "Data columns (total 2 columns):\n",
      " #   Column  Non-Null Count  Dtype  \n",
      "---  ------  --------------  -----  \n",
      " 0   imgs    0 non-null      float64\n",
      " 1   labels  0 non-null      float64\n",
      "dtypes: float64(2)\n",
      "memory usage: 124.0 bytes\n"
     ]
    }
   ],
   "source": [
    "all_df = pd.DataFrame({\"imgs\":imgs,\"labels\":labels})\n",
    "all_df.info()"
   ]
  },
  {
   "cell_type": "code",
   "execution_count": 45,
   "id": "42b9e43f",
   "metadata": {},
   "outputs": [
    {
     "name": "stdout",
     "output_type": "stream",
     "text": [
      "!\"#$%&'()*+,-./:;<=>?@[\\]^_`{|}~ ＂＃＄％＆＇（）＊＋，－／：；＜＝＞＠［＼］＾＿｀｛｜｝～｟｠｢｣､　、〃〈〉《》「」『』【】〔〕〖〗〘〙〚〛〜〝〞〟〰〾〿–—‘’‛“”„‟…‧﹏﹑﹔·！？｡。\n"
     ]
    }
   ],
   "source": [
    "# del 標點符號\n",
    "import string\n",
    "from zhon.hanzi import punctuation\n",
    "print(string.punctuation,punctuation)"
   ]
  },
  {
   "cell_type": "code",
   "execution_count": 46,
   "id": "021365f7",
   "metadata": {},
   "outputs": [],
   "source": [
    "punc = '＂＃＄％＆＇（）＊＋，－／：；＜＝＞＠［＼］＾＿｀｛｜｝～｟｠｢｣､\\u3000、〃〈〉《》「」『』【】〔〕〖〗〘〙〚〛〜〝〞〟〰〾〿–—‘’‛“”„‟…‧﹏﹑﹔·！？｡。!\"$%&\\'()*+,-./:;<=>?@[\\\\]^_`{|}~'"
   ]
  },
  {
   "cell_type": "code",
   "execution_count": 47,
   "id": "3230cd75",
   "metadata": {},
   "outputs": [],
   "source": [
    "def del_puctuation(txt,punc_str):\n",
    "    re_txt=txt\n",
    "    for i in punc_str:\n",
    "        re_txt = re_txt.replace(i,\"\")\n",
    "    return re_txt"
   ]
  },
  {
   "cell_type": "code",
   "execution_count": 48,
   "id": "df98a90f",
   "metadata": {},
   "outputs": [],
   "source": [
    "df.labels = df.labels.apply(lambda x:del_puctuation(x,punc))"
   ]
  },
  {
   "cell_type": "code",
   "execution_count": 49,
   "id": "be42c13e",
   "metadata": {},
   "outputs": [],
   "source": [
    "# turn \n",
    "df.labels = df.labels.apply(lambda x:x.lower())"
   ]
  },
  {
   "cell_type": "code",
   "execution_count": 56,
   "id": "9b726ce9",
   "metadata": {},
   "outputs": [],
   "source": [
    "df = df.fillna(\"###\")"
   ]
  },
  {
   "cell_type": "code",
   "execution_count": 51,
   "id": "8e2d488f",
   "metadata": {
    "scrolled": true
   },
   "outputs": [
    {
     "data": {
      "text/html": [
       "<div>\n",
       "<style scoped>\n",
       "    .dataframe tbody tr th:only-of-type {\n",
       "        vertical-align: middle;\n",
       "    }\n",
       "\n",
       "    .dataframe tbody tr th {\n",
       "        vertical-align: top;\n",
       "    }\n",
       "\n",
       "    .dataframe thead th {\n",
       "        text-align: right;\n",
       "    }\n",
       "</style>\n",
       "<table border=\"1\" class=\"dataframe\">\n",
       "  <thead>\n",
       "    <tr style=\"text-align: right;\">\n",
       "      <th></th>\n",
       "      <th>imgs</th>\n",
       "      <th>ids</th>\n",
       "      <th>pt1</th>\n",
       "      <th>pt2</th>\n",
       "      <th>pt3</th>\n",
       "      <th>pt4</th>\n",
       "      <th>pt5</th>\n",
       "      <th>pt6</th>\n",
       "      <th>pt7</th>\n",
       "      <th>pt8</th>\n",
       "      <th>labels</th>\n",
       "    </tr>\n",
       "  </thead>\n",
       "  <tbody>\n",
       "    <tr>\n",
       "      <th>119731</th>\n",
       "      <td>img_8019_30.jpg</td>\n",
       "      <td>1</td>\n",
       "      <td>678</td>\n",
       "      <td>1149</td>\n",
       "      <td>726</td>\n",
       "      <td>1147</td>\n",
       "      <td>729</td>\n",
       "      <td>1209</td>\n",
       "      <td>680</td>\n",
       "      <td>1209</td>\n",
       "      <td>不</td>\n",
       "    </tr>\n",
       "    <tr>\n",
       "      <th>105228</th>\n",
       "      <td>img_2252_3.jpg</td>\n",
       "      <td>1</td>\n",
       "      <td>940</td>\n",
       "      <td>462</td>\n",
       "      <td>1194</td>\n",
       "      <td>495</td>\n",
       "      <td>1201</td>\n",
       "      <td>697</td>\n",
       "      <td>922</td>\n",
       "      <td>642</td>\n",
       "      <td>滷</td>\n",
       "    </tr>\n",
       "    <tr>\n",
       "      <th>70829</th>\n",
       "      <td>img_13650_1.jpg</td>\n",
       "      <td>2</td>\n",
       "      <td>710</td>\n",
       "      <td>170</td>\n",
       "      <td>887</td>\n",
       "      <td>180</td>\n",
       "      <td>880</td>\n",
       "      <td>1694</td>\n",
       "      <td>703</td>\n",
       "      <td>1685</td>\n",
       "      <td>劉秀緞代書事務所</td>\n",
       "    </tr>\n",
       "    <tr>\n",
       "      <th>76622</th>\n",
       "      <td>img_4367_2.jpg</td>\n",
       "      <td>0</td>\n",
       "      <td>286</td>\n",
       "      <td>693</td>\n",
       "      <td>474</td>\n",
       "      <td>692</td>\n",
       "      <td>462</td>\n",
       "      <td>782</td>\n",
       "      <td>278</td>\n",
       "      <td>785</td>\n",
       "      <td>###</td>\n",
       "    </tr>\n",
       "    <tr>\n",
       "      <th>300598</th>\n",
       "      <td>img_14657_39.jpg</td>\n",
       "      <td>3</td>\n",
       "      <td>546</td>\n",
       "      <td>912</td>\n",
       "      <td>625</td>\n",
       "      <td>907</td>\n",
       "      <td>620</td>\n",
       "      <td>934</td>\n",
       "      <td>543</td>\n",
       "      <td>938</td>\n",
       "      <td>stirfry</td>\n",
       "    </tr>\n",
       "    <tr>\n",
       "      <th>89604</th>\n",
       "      <td>img_11563_17.jpg</td>\n",
       "      <td>1</td>\n",
       "      <td>845</td>\n",
       "      <td>883</td>\n",
       "      <td>923</td>\n",
       "      <td>885</td>\n",
       "      <td>929</td>\n",
       "      <td>962</td>\n",
       "      <td>849</td>\n",
       "      <td>961</td>\n",
       "      <td>館</td>\n",
       "    </tr>\n",
       "    <tr>\n",
       "      <th>286299</th>\n",
       "      <td>img_12806_17.jpg</td>\n",
       "      <td>1</td>\n",
       "      <td>142</td>\n",
       "      <td>775</td>\n",
       "      <td>195</td>\n",
       "      <td>766</td>\n",
       "      <td>193</td>\n",
       "      <td>855</td>\n",
       "      <td>140</td>\n",
       "      <td>863</td>\n",
       "      <td>器</td>\n",
       "    </tr>\n",
       "    <tr>\n",
       "      <th>151408</th>\n",
       "      <td>img_6032_32.jpg</td>\n",
       "      <td>1</td>\n",
       "      <td>384</td>\n",
       "      <td>660</td>\n",
       "      <td>403</td>\n",
       "      <td>659</td>\n",
       "      <td>403</td>\n",
       "      <td>680</td>\n",
       "      <td>384</td>\n",
       "      <td>680</td>\n",
       "      <td>基</td>\n",
       "    </tr>\n",
       "    <tr>\n",
       "      <th>139977</th>\n",
       "      <td>img_10283_8.jpg</td>\n",
       "      <td>1</td>\n",
       "      <td>416</td>\n",
       "      <td>981</td>\n",
       "      <td>504</td>\n",
       "      <td>984</td>\n",
       "      <td>496</td>\n",
       "      <td>1066</td>\n",
       "      <td>410</td>\n",
       "      <td>1066</td>\n",
       "      <td>文</td>\n",
       "    </tr>\n",
       "    <tr>\n",
       "      <th>63963</th>\n",
       "      <td>img_5174_19.jpg</td>\n",
       "      <td>3</td>\n",
       "      <td>428</td>\n",
       "      <td>1196</td>\n",
       "      <td>648</td>\n",
       "      <td>1253</td>\n",
       "      <td>647</td>\n",
       "      <td>1298</td>\n",
       "      <td>430</td>\n",
       "      <td>1246</td>\n",
       "      <td>tel0229414303</td>\n",
       "    </tr>\n",
       "  </tbody>\n",
       "</table>\n",
       "</div>"
      ],
      "text/plain": [
       "                    imgs  ids  pt1   pt2   pt3   pt4   pt5   pt6  pt7   pt8  \\\n",
       "119731   img_8019_30.jpg    1  678  1149   726  1147   729  1209  680  1209   \n",
       "105228    img_2252_3.jpg    1  940   462  1194   495  1201   697  922   642   \n",
       "70829    img_13650_1.jpg    2  710   170   887   180   880  1694  703  1685   \n",
       "76622     img_4367_2.jpg    0  286   693   474   692   462   782  278   785   \n",
       "300598  img_14657_39.jpg    3  546   912   625   907   620   934  543   938   \n",
       "89604   img_11563_17.jpg    1  845   883   923   885   929   962  849   961   \n",
       "286299  img_12806_17.jpg    1  142   775   195   766   193   855  140   863   \n",
       "151408   img_6032_32.jpg    1  384   660   403   659   403   680  384   680   \n",
       "139977   img_10283_8.jpg    1  416   981   504   984   496  1066  410  1066   \n",
       "63963    img_5174_19.jpg    3  428  1196   648  1253   647  1298  430  1246   \n",
       "\n",
       "               labels  \n",
       "119731              不  \n",
       "105228              滷  \n",
       "70829        劉秀緞代書事務所  \n",
       "76622             ###  \n",
       "300598        stirfry  \n",
       "89604               館  \n",
       "286299              器  \n",
       "151408              基  \n",
       "139977              文  \n",
       "63963   tel0229414303  "
      ]
     },
     "execution_count": 51,
     "metadata": {},
     "output_type": "execute_result"
    }
   ],
   "source": [
    "from sklearn.model_selection import train_test_split\n",
    "\n",
    "train, test = train_test_split(df, test_size=0.2,random_state=69)\n",
    "train[:10]"
   ]
  },
  {
   "cell_type": "code",
   "execution_count": 57,
   "id": "a7bf482e",
   "metadata": {},
   "outputs": [],
   "source": [
    "def label_encode(names, labels,path,file_name):\n",
    "    out_f = open(path+file_name,\"w\",encoding=\"utf8\")\n",
    "    for elem in zip(names,labels):\n",
    "        #print(\"img/\"+elem[0]+\"\\t\"+elem[1]+'\\n')\n",
    "        out_f.write(\"img/\"+elem[0]+\"\\t\"+elem[1]+'\\n')\n",
    "    out_f.close()"
   ]
  },
  {
   "cell_type": "code",
   "execution_count": 58,
   "id": "c794f0a0",
   "metadata": {},
   "outputs": [],
   "source": [
    "label_encode(train.imgs,train.labels,out_path,\"train_label_clean.txt\")"
   ]
  },
  {
   "cell_type": "code",
   "execution_count": 59,
   "id": "8d5bcf60",
   "metadata": {},
   "outputs": [],
   "source": [
    "label_encode(test.imgs,test.labels,out_path,\"test_label_clean.txt\")"
   ]
  },
  {
   "cell_type": "code",
   "execution_count": null,
   "id": "23d40cef",
   "metadata": {},
   "outputs": [],
   "source": []
  }
 ],
 "metadata": {
  "kernelspec": {
   "display_name": "Python 3 (ipykernel)",
   "language": "python",
   "name": "python3"
  },
  "language_info": {
   "codemirror_mode": {
    "name": "ipython",
    "version": 3
   },
   "file_extension": ".py",
   "mimetype": "text/x-python",
   "name": "python",
   "nbconvert_exporter": "python",
   "pygments_lexer": "ipython3",
   "version": "3.7.3"
  }
 },
 "nbformat": 4,
 "nbformat_minor": 5
}
