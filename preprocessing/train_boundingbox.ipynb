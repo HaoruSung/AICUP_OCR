{
 "cells": [
  {
   "cell_type": "code",
   "execution_count": 220,
   "id": "8fbd8fc6",
   "metadata": {},
   "outputs": [],
   "source": [
    "import os\n",
    "import cv2\n",
    "import numpy as np\n",
    "import pandas as pd\n",
    "import re\n",
    "import random\n",
    "from shapely.geometry import box, Polygon\n",
    "from matplotlib import pyplot as plt\n",
    "#{\"None\":0,\"zh_char\":1,\"zh_str\":2,\"en\":3,\"zh_en\":4}"
   ]
  },
  {
   "cell_type": "code",
   "execution_count": 221,
   "id": "997ce7b9",
   "metadata": {},
   "outputs": [],
   "source": [
    "dataset_path = \"/home/mark/Desktop/py3.7/cv/datasets/ai_cup_f/\""
   ]
  },
  {
   "cell_type": "code",
   "execution_count": 241,
   "id": "493b67dd",
   "metadata": {},
   "outputs": [
    {
     "data": {
      "text/html": [
       "<div>\n",
       "<style scoped>\n",
       "    .dataframe tbody tr th:only-of-type {\n",
       "        vertical-align: middle;\n",
       "    }\n",
       "\n",
       "    .dataframe tbody tr th {\n",
       "        vertical-align: top;\n",
       "    }\n",
       "\n",
       "    .dataframe thead th {\n",
       "        text-align: right;\n",
       "    }\n",
       "</style>\n",
       "<table border=\"1\" class=\"dataframe\">\n",
       "  <thead>\n",
       "    <tr style=\"text-align: right;\">\n",
       "      <th></th>\n",
       "      <th>imgs</th>\n",
       "      <th>pt1</th>\n",
       "      <th>pt2</th>\n",
       "      <th>pt3</th>\n",
       "      <th>pt4</th>\n",
       "      <th>pt5</th>\n",
       "      <th>pt6</th>\n",
       "      <th>pt7</th>\n",
       "      <th>pt8</th>\n",
       "      <th>labels</th>\n",
       "    </tr>\n",
       "  </thead>\n",
       "  <tbody>\n",
       "    <tr>\n",
       "      <th>0</th>\n",
       "      <td>gt_1234</td>\n",
       "      <td>45</td>\n",
       "      <td>272</td>\n",
       "      <td>215</td>\n",
       "      <td>273</td>\n",
       "      <td>212</td>\n",
       "      <td>296</td>\n",
       "      <td>45</td>\n",
       "      <td>290</td>\n",
       "      <td>一站式购物中心</td>\n",
       "    </tr>\n",
       "    <tr>\n",
       "      <th>1</th>\n",
       "      <td>gt_1234</td>\n",
       "      <td>33</td>\n",
       "      <td>325</td>\n",
       "      <td>204</td>\n",
       "      <td>328</td>\n",
       "      <td>202</td>\n",
       "      <td>363</td>\n",
       "      <td>31</td>\n",
       "      <td>357</td>\n",
       "      <td>母婴百汇</td>\n",
       "    </tr>\n",
       "    <tr>\n",
       "      <th>2</th>\n",
       "      <td>gt_1234</td>\n",
       "      <td>25</td>\n",
       "      <td>359</td>\n",
       "      <td>71</td>\n",
       "      <td>364</td>\n",
       "      <td>70</td>\n",
       "      <td>385</td>\n",
       "      <td>25</td>\n",
       "      <td>382</td>\n",
       "      <td>TEL:</td>\n",
       "    </tr>\n",
       "    <tr>\n",
       "      <th>3</th>\n",
       "      <td>gt_1234</td>\n",
       "      <td>72</td>\n",
       "      <td>362</td>\n",
       "      <td>197</td>\n",
       "      <td>365</td>\n",
       "      <td>197</td>\n",
       "      <td>388</td>\n",
       "      <td>72</td>\n",
       "      <td>384</td>\n",
       "      <td>8168886</td>\n",
       "    </tr>\n",
       "    <tr>\n",
       "      <th>4</th>\n",
       "      <td>gt_1234</td>\n",
       "      <td>5</td>\n",
       "      <td>394</td>\n",
       "      <td>212</td>\n",
       "      <td>409</td>\n",
       "      <td>209</td>\n",
       "      <td>435</td>\n",
       "      <td>7</td>\n",
       "      <td>423</td>\n",
       "      <td>###</td>\n",
       "    </tr>\n",
       "  </tbody>\n",
       "</table>\n",
       "</div>"
      ],
      "text/plain": [
       "      imgs  pt1  pt2  pt3  pt4  pt5  pt6  pt7  pt8   labels\n",
       "0  gt_1234   45  272  215  273  212  296   45  290  一站式购物中心\n",
       "1  gt_1234   33  325  204  328  202  363   31  357     母婴百汇\n",
       "2  gt_1234   25  359   71  364   70  385   25  382     TEL:\n",
       "3  gt_1234   72  362  197  365  197  388   72  384  8168886\n",
       "4  gt_1234    5  394  212  409  209  435    7  423      ###"
      ]
     },
     "execution_count": 241,
     "metadata": {},
     "output_type": "execute_result"
    }
   ],
   "source": [
    "#read csv\n",
    "df = pd.read_csv(dataset_path+\"lsvt.csv\",encoding=\"utf8\")\n",
    "df.head()"
   ]
  },
  {
   "cell_type": "code",
   "execution_count": 242,
   "id": "ee4731ba",
   "metadata": {},
   "outputs": [
    {
     "data": {
      "text/plain": [
       "imgs      0\n",
       "pt1       0\n",
       "pt2       0\n",
       "pt3       0\n",
       "pt4       0\n",
       "pt5       0\n",
       "pt6       0\n",
       "pt7       0\n",
       "pt8       0\n",
       "labels    6\n",
       "dtype: int64"
      ]
     },
     "execution_count": 242,
     "metadata": {},
     "output_type": "execute_result"
    }
   ],
   "source": [
    "df.isna().sum()"
   ]
  },
  {
   "cell_type": "code",
   "execution_count": 243,
   "id": "771b425f",
   "metadata": {},
   "outputs": [],
   "source": [
    "df.labels = df.labels.fillna(\"###\")"
   ]
  },
  {
   "cell_type": "code",
   "execution_count": 244,
   "id": "f33b41ce",
   "metadata": {},
   "outputs": [
    {
     "name": "stdout",
     "output_type": "stream",
     "text": [
      "<class 'pandas.core.frame.DataFrame'>\n",
      "RangeIndex: 382606 entries, 0 to 382605\n",
      "Data columns (total 10 columns):\n",
      " #   Column  Non-Null Count   Dtype \n",
      "---  ------  --------------   ----- \n",
      " 0   imgs    382606 non-null  object\n",
      " 1   pt1     382606 non-null  int64 \n",
      " 2   pt2     382606 non-null  int64 \n",
      " 3   pt3     382606 non-null  int64 \n",
      " 4   pt4     382606 non-null  int64 \n",
      " 5   pt5     382606 non-null  int64 \n",
      " 6   pt6     382606 non-null  int64 \n",
      " 7   pt7     382606 non-null  int64 \n",
      " 8   pt8     382606 non-null  int64 \n",
      " 9   labels  382606 non-null  object\n",
      "dtypes: int64(8), object(2)\n",
      "memory usage: 29.2+ MB\n"
     ]
    }
   ],
   "source": [
    "df.info()"
   ]
  },
  {
   "cell_type": "code",
   "execution_count": 296,
   "id": "2d3a3906",
   "metadata": {},
   "outputs": [],
   "source": [
    "def quadril_overlap(poly1,poly2):\n",
    "    '''\n",
    "    from shapely.geometry import box, Polygon\n",
    "    given two polygon points[[x1,y1],[x2,y2],[x3,y3],[x4,y4]]\n",
    "    calculates the overlap percetage.\n",
    "    '''\n",
    "    polygon1_shape = Polygon(poly1)\n",
    "    polygon2_shape = Polygon(poly2)\n",
    "    # Calculate Intersection\n",
    "    polygon_intersection = polygon1_shape.intersection(polygon2_shape).area\n",
    "    small_box = min(polygon1_shape.area,polygon2_shape.area)\n",
    "    if polygon_intersection >= small_box*0.5:#若交集區大於最小框的50%，則視為子框(重疊)\n",
    "        if polygon1_shape.area>polygon2_shape.area:\n",
    "            return 1\n",
    "        else:\n",
    "            return 2\n",
    "    return 0\n",
    "def chunks(lst, n):\n",
    "    \"\"\n",
    "    \"Yield successive n-sized chunks from lst.\"\n",
    "    \"\"\n",
    "    for i in range(0, len(lst), n):\n",
    "        yield lst[i: i + n]"
   ]
  },
  {
   "cell_type": "code",
   "execution_count": 265,
   "id": "40428327",
   "metadata": {},
   "outputs": [
    {
     "data": {
      "text/html": [
       "<div>\n",
       "<style scoped>\n",
       "    .dataframe tbody tr th:only-of-type {\n",
       "        vertical-align: middle;\n",
       "    }\n",
       "\n",
       "    .dataframe tbody tr th {\n",
       "        vertical-align: top;\n",
       "    }\n",
       "\n",
       "    .dataframe thead th {\n",
       "        text-align: right;\n",
       "    }\n",
       "</style>\n",
       "<table border=\"1\" class=\"dataframe\">\n",
       "  <thead>\n",
       "    <tr style=\"text-align: right;\">\n",
       "      <th></th>\n",
       "      <th>imgs</th>\n",
       "      <th>pt1</th>\n",
       "      <th>pt2</th>\n",
       "      <th>pt3</th>\n",
       "      <th>pt4</th>\n",
       "      <th>pt5</th>\n",
       "      <th>pt6</th>\n",
       "      <th>pt7</th>\n",
       "      <th>pt8</th>\n",
       "      <th>labels</th>\n",
       "    </tr>\n",
       "  </thead>\n",
       "  <tbody>\n",
       "  </tbody>\n",
       "</table>\n",
       "</div>"
      ],
      "text/plain": [
       "Empty DataFrame\n",
       "Columns: [imgs, pt1, pt2, pt3, pt4, pt5, pt6, pt7, pt8, labels]\n",
       "Index: []"
      ]
     },
     "execution_count": 265,
     "metadata": {},
     "output_type": "execute_result"
    }
   ],
   "source": [
    "df[df['labels']==\"###\"]"
   ]
  },
  {
   "cell_type": "code",
   "execution_count": 246,
   "id": "bc26a938",
   "metadata": {},
   "outputs": [],
   "source": [
    "df = df[df[\"labels\"]!=\"###\"]#去除###的框"
   ]
  },
  {
   "cell_type": "code",
   "execution_count": 297,
   "id": "baf4d47a",
   "metadata": {},
   "outputs": [],
   "source": [
    "#input df,img_set,bounding_condition=\"s\",\"l\"\n",
    "def find_bounding_box(df):\n",
    "    img_set = df.imgs.unique()\n",
    "    cond=2\n",
    "    re_box=[]\n",
    "    for img in img_set:#依序讀入每張圖片\n",
    "        #print(img)\n",
    "        img_buf = df[df[\"imgs\"]==img]\n",
    "        selected_box=[]\n",
    "        for box in img_buf.iterrows():#一個一個box去看\n",
    "            #print(selected_box)\n",
    "            box_pt = list(chunks(box[1][1:9].values,2))\n",
    "            if not Polygon(box_pt).is_valid:\n",
    "                continue\n",
    "            if len(selected_box):\n",
    "                #print(box_pt)\n",
    "                score = 0\n",
    "                for s_box in (selected_box):#若與selected box 重疊則判斷大小，取大的\n",
    "                    #print(img_buf.loc[12])\n",
    "                    s_box_pt = list(chunks(img_buf.loc[s_box][1:9].values,2))\n",
    "                    score_buf = quadril_overlap(s_box_pt,box_pt)#若兩poly重疊回傳且1大:s_box,2大:box, 否則 0\n",
    "                    score+=score_buf\n",
    "                    if score_buf:#重疊\n",
    "                        if score_buf == cond:#1:s_box>box 2:box>s_box\n",
    "                            selected_box = [box[0] if x==s_box else x for x in selected_box]#取代s_box                        \n",
    "                if score==0 :#未重疊\n",
    "                    selected_box.append(box[0])\n",
    "            else:\n",
    "                selected_box.append(box[0])\n",
    "            #print(selected_box)\n",
    "        re_box.append(list(set(selected_box)))\n",
    "    return [item for sublist in re_box for item in sublist]"
   ]
  },
  {
   "cell_type": "code",
   "execution_count": 298,
   "id": "2f78e984",
   "metadata": {},
   "outputs": [
    {
     "data": {
      "text/html": [
       "<div>\n",
       "<style scoped>\n",
       "    .dataframe tbody tr th:only-of-type {\n",
       "        vertical-align: middle;\n",
       "    }\n",
       "\n",
       "    .dataframe tbody tr th {\n",
       "        vertical-align: top;\n",
       "    }\n",
       "\n",
       "    .dataframe thead th {\n",
       "        text-align: right;\n",
       "    }\n",
       "</style>\n",
       "<table border=\"1\" class=\"dataframe\">\n",
       "  <thead>\n",
       "    <tr style=\"text-align: right;\">\n",
       "      <th></th>\n",
       "      <th>imgs</th>\n",
       "      <th>pt1</th>\n",
       "      <th>pt2</th>\n",
       "      <th>pt3</th>\n",
       "      <th>pt4</th>\n",
       "      <th>pt5</th>\n",
       "      <th>pt6</th>\n",
       "      <th>pt7</th>\n",
       "      <th>pt8</th>\n",
       "      <th>labels</th>\n",
       "    </tr>\n",
       "  </thead>\n",
       "  <tbody>\n",
       "    <tr>\n",
       "      <th>0</th>\n",
       "      <td>gt_1234</td>\n",
       "      <td>45</td>\n",
       "      <td>272</td>\n",
       "      <td>215</td>\n",
       "      <td>273</td>\n",
       "      <td>212</td>\n",
       "      <td>296</td>\n",
       "      <td>45</td>\n",
       "      <td>290</td>\n",
       "      <td>一站式购物中心</td>\n",
       "    </tr>\n",
       "    <tr>\n",
       "      <th>1</th>\n",
       "      <td>gt_1234</td>\n",
       "      <td>33</td>\n",
       "      <td>325</td>\n",
       "      <td>204</td>\n",
       "      <td>328</td>\n",
       "      <td>202</td>\n",
       "      <td>363</td>\n",
       "      <td>31</td>\n",
       "      <td>357</td>\n",
       "      <td>母婴百汇</td>\n",
       "    </tr>\n",
       "    <tr>\n",
       "      <th>2</th>\n",
       "      <td>gt_1234</td>\n",
       "      <td>25</td>\n",
       "      <td>359</td>\n",
       "      <td>71</td>\n",
       "      <td>364</td>\n",
       "      <td>70</td>\n",
       "      <td>385</td>\n",
       "      <td>25</td>\n",
       "      <td>382</td>\n",
       "      <td>TEL:</td>\n",
       "    </tr>\n",
       "    <tr>\n",
       "      <th>3</th>\n",
       "      <td>gt_1234</td>\n",
       "      <td>72</td>\n",
       "      <td>362</td>\n",
       "      <td>197</td>\n",
       "      <td>365</td>\n",
       "      <td>197</td>\n",
       "      <td>388</td>\n",
       "      <td>72</td>\n",
       "      <td>384</td>\n",
       "      <td>8168886</td>\n",
       "    </tr>\n",
       "    <tr>\n",
       "      <th>5</th>\n",
       "      <td>gt_1234</td>\n",
       "      <td>649</td>\n",
       "      <td>317</td>\n",
       "      <td>665</td>\n",
       "      <td>317</td>\n",
       "      <td>662</td>\n",
       "      <td>331</td>\n",
       "      <td>648</td>\n",
       "      <td>331</td>\n",
       "      <td>方</td>\n",
       "    </tr>\n",
       "  </tbody>\n",
       "</table>\n",
       "</div>"
      ],
      "text/plain": [
       "      imgs  pt1  pt2  pt3  pt4  pt5  pt6  pt7  pt8   labels\n",
       "0  gt_1234   45  272  215  273  212  296   45  290  一站式购物中心\n",
       "1  gt_1234   33  325  204  328  202  363   31  357     母婴百汇\n",
       "2  gt_1234   25  359   71  364   70  385   25  382     TEL:\n",
       "3  gt_1234   72  362  197  365  197  388   72  384  8168886\n",
       "5  gt_1234  649  317  665  317  662  331  648  331        方"
      ]
     },
     "execution_count": 298,
     "metadata": {},
     "output_type": "execute_result"
    }
   ],
   "source": [
    "df.head()"
   ]
  },
  {
   "cell_type": "code",
   "execution_count": 299,
   "id": "e2153027",
   "metadata": {
    "scrolled": true
   },
   "outputs": [],
   "source": [
    "bounding_max = find_bounding_box(df)"
   ]
  },
  {
   "cell_type": "code",
   "execution_count": 300,
   "id": "ed3e0176",
   "metadata": {},
   "outputs": [
    {
     "data": {
      "text/plain": [
       "241855"
      ]
     },
     "execution_count": 300,
     "metadata": {},
     "output_type": "execute_result"
    }
   ],
   "source": [
    "len(bounding_max)"
   ]
  },
  {
   "cell_type": "code",
   "execution_count": 301,
   "id": "1798df5d",
   "metadata": {
    "scrolled": true
   },
   "outputs": [],
   "source": [
    "df_max_bound = df.loc[bounding_max]"
   ]
  },
  {
   "cell_type": "code",
   "execution_count": 302,
   "id": "928ff10a",
   "metadata": {},
   "outputs": [],
   "source": [
    "#df_max_bound.to_csv(dataset_path+\"lsvt_max_bound.csv\",encoding=\"utf\",index = False)"
   ]
  },
  {
   "cell_type": "code",
   "execution_count": 290,
   "id": "51ebc26f",
   "metadata": {},
   "outputs": [
    {
     "data": {
      "text/plain": [
       "True"
      ]
     },
     "execution_count": 290,
     "metadata": {},
     "output_type": "execute_result"
    }
   ],
   "source": [
    "Polygon([[45,272],[215,273],[212,296],[45,290]]).is_valid"
   ]
  }
 ],
 "metadata": {
  "kernelspec": {
   "display_name": "Python 3 (ipykernel)",
   "language": "python",
   "name": "python3"
  },
  "language_info": {
   "codemirror_mode": {
    "name": "ipython",
    "version": 3
   },
   "file_extension": ".py",
   "mimetype": "text/x-python",
   "name": "python",
   "nbconvert_exporter": "python",
   "pygments_lexer": "ipython3",
   "version": "3.7.3"
  }
 },
 "nbformat": 4,
 "nbformat_minor": 5
}
