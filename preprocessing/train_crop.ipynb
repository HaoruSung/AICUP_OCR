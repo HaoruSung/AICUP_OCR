{
 "cells": [
  {
   "cell_type": "code",
   "execution_count": 1,
   "id": "d5e14d62",
   "metadata": {},
   "outputs": [
    {
     "name": "stderr",
     "output_type": "stream",
     "text": [
      "/home/mark/Desktop/py3.7/cv/paddleOCR/lib/python3.7/site-packages/pandas/compat/__init__.py:124: UserWarning: Could not import the lzma module. Your installed Python is incomplete. Attempting to use lzma compression will result in a RuntimeError.\n",
      "  warnings.warn(msg)\n"
     ]
    }
   ],
   "source": [
    "import os\n",
    "import cv2\n",
    "import numpy as np\n",
    "import pandas as pd\n",
    "import random\n",
    "from matplotlib import pyplot as plt"
   ]
  },
  {
   "cell_type": "code",
   "execution_count": 2,
   "id": "4082243f",
   "metadata": {},
   "outputs": [
    {
     "data": {
      "text/plain": [
       "'/home/mark/Desktop/py3.7/cv/paddleOCR/code/ai_cup_f/preprocessing'"
      ]
     },
     "execution_count": 2,
     "metadata": {},
     "output_type": "execute_result"
    }
   ],
   "source": [
    "os.getcwd()"
   ]
  },
  {
   "cell_type": "code",
   "execution_count": 3,
   "id": "faa14e82",
   "metadata": {},
   "outputs": [],
   "source": [
    "#directory must contain public foler\n",
    "dataset_path = \"/home/mark/Desktop/py3.7/cv/datasets/ai_cup_f/\"\n",
    "img_path=dataset_path+\"train/img/\"\n",
    "#where you save img\n",
    "out_path= dataset_path+\"/train_str_cut/img/\""
   ]
  },
  {
   "cell_type": "code",
   "execution_count": 4,
   "id": "6fcd1cc4",
   "metadata": {},
   "outputs": [],
   "source": [
    "def crop_polygon(img,points):\n",
    "    #crop img with given points([[x1,y1],[x2,y2]...])\n",
    "    #require cv2, np\n",
    "    pts = np.array(points)\n",
    "    rect = cv2.boundingRect(pts)\n",
    "    x,y,w,h = rect\n",
    "    croped_img = img[y:y+h, x:x+w].copy()\n",
    "    pts = pts - pts.min(axis=0)\n",
    "    mask = np.zeros(croped_img.shape[:2], np.uint8)\n",
    "    cv2.drawContours(mask, [pts], -1, (255, 255, 255), -1, cv2.LINE_AA)\n",
    "    dst = cv2.bitwise_and(croped_img, croped_img, mask=mask)\n",
    "    return dst"
   ]
  },
  {
   "cell_type": "code",
   "execution_count": 5,
   "id": "f497077d",
   "metadata": {},
   "outputs": [
    {
     "data": {
      "text/html": [
       "<div>\n",
       "<style scoped>\n",
       "    .dataframe tbody tr th:only-of-type {\n",
       "        vertical-align: middle;\n",
       "    }\n",
       "\n",
       "    .dataframe tbody tr th {\n",
       "        vertical-align: top;\n",
       "    }\n",
       "\n",
       "    .dataframe thead th {\n",
       "        text-align: right;\n",
       "    }\n",
       "</style>\n",
       "<table border=\"1\" class=\"dataframe\">\n",
       "  <thead>\n",
       "    <tr style=\"text-align: right;\">\n",
       "      <th></th>\n",
       "      <th>imgs</th>\n",
       "      <th>ids</th>\n",
       "      <th>pt1</th>\n",
       "      <th>pt2</th>\n",
       "      <th>pt3</th>\n",
       "      <th>pt4</th>\n",
       "      <th>pt5</th>\n",
       "      <th>pt6</th>\n",
       "      <th>pt7</th>\n",
       "      <th>pt8</th>\n",
       "      <th>labels</th>\n",
       "    </tr>\n",
       "  </thead>\n",
       "  <tbody>\n",
       "    <tr>\n",
       "      <th>0</th>\n",
       "      <td>img_7818</td>\n",
       "      <td>1</td>\n",
       "      <td>267</td>\n",
       "      <td>1107</td>\n",
       "      <td>354</td>\n",
       "      <td>1104</td>\n",
       "      <td>347</td>\n",
       "      <td>1202</td>\n",
       "      <td>258</td>\n",
       "      <td>1203</td>\n",
       "      <td>多</td>\n",
       "    </tr>\n",
       "    <tr>\n",
       "      <th>1</th>\n",
       "      <td>img_7818</td>\n",
       "      <td>1</td>\n",
       "      <td>359</td>\n",
       "      <td>1105</td>\n",
       "      <td>442</td>\n",
       "      <td>1100</td>\n",
       "      <td>433</td>\n",
       "      <td>1197</td>\n",
       "      <td>350</td>\n",
       "      <td>1200</td>\n",
       "      <td>多</td>\n",
       "    </tr>\n",
       "    <tr>\n",
       "      <th>2</th>\n",
       "      <td>img_7818</td>\n",
       "      <td>1</td>\n",
       "      <td>443</td>\n",
       "      <td>1102</td>\n",
       "      <td>530</td>\n",
       "      <td>1096</td>\n",
       "      <td>525</td>\n",
       "      <td>1194</td>\n",
       "      <td>434</td>\n",
       "      <td>1199</td>\n",
       "      <td>選</td>\n",
       "    </tr>\n",
       "    <tr>\n",
       "      <th>3</th>\n",
       "      <td>img_7818</td>\n",
       "      <td>1</td>\n",
       "      <td>529</td>\n",
       "      <td>1098</td>\n",
       "      <td>620</td>\n",
       "      <td>1093</td>\n",
       "      <td>617</td>\n",
       "      <td>1192</td>\n",
       "      <td>524</td>\n",
       "      <td>1194</td>\n",
       "      <td>物</td>\n",
       "    </tr>\n",
       "    <tr>\n",
       "      <th>4</th>\n",
       "      <td>img_7818</td>\n",
       "      <td>1</td>\n",
       "      <td>624</td>\n",
       "      <td>1094</td>\n",
       "      <td>714</td>\n",
       "      <td>1090</td>\n",
       "      <td>711</td>\n",
       "      <td>1192</td>\n",
       "      <td>618</td>\n",
       "      <td>1190</td>\n",
       "      <td>販</td>\n",
       "    </tr>\n",
       "  </tbody>\n",
       "</table>\n",
       "</div>"
      ],
      "text/plain": [
       "       imgs  ids  pt1   pt2  pt3   pt4  pt5   pt6  pt7   pt8 labels\n",
       "0  img_7818    1  267  1107  354  1104  347  1202  258  1203      多\n",
       "1  img_7818    1  359  1105  442  1100  433  1197  350  1200      多\n",
       "2  img_7818    1  443  1102  530  1096  525  1194  434  1199      選\n",
       "3  img_7818    1  529  1098  620  1093  617  1192  524  1194      物\n",
       "4  img_7818    1  624  1094  714  1090  711  1192  618  1190      販"
      ]
     },
     "execution_count": 5,
     "metadata": {},
     "output_type": "execute_result"
    }
   ],
   "source": [
    "df = pd.read_csv(dataset_path+\"/train_ids_cor.csv\",encoding=\"utf8\")\n",
    "df.replace(-1,0,inplace=True)#turn negative to 0\n",
    "df.head()"
   ]
  },
  {
   "cell_type": "code",
   "execution_count": 6,
   "id": "7f2c6948",
   "metadata": {},
   "outputs": [],
   "source": [
    "#save pic\n",
    "opened_img = None\n",
    "img = None\n",
    "pic_count=0\n",
    "cut_img=[]\n",
    "for index, row in df.iterrows():\n",
    "    current_img = df.imgs[index]#get file name\n",
    "    #get position data\n",
    "    points = [[row[\"pt\"+str(x)],row[\"pt\"+str(x+1)]] for x in range(1,9,2)]#loop thru 1,2~7,8\n",
    "    #turn points into np.array\n",
    "    points = np.array(points, np.int32)\n",
    "    #open pic\n",
    "    pic_count+=1\n",
    "    if current_img != opened_img:\n",
    "        img = cv2.imread(img_path+current_img+\".jpg\")\n",
    "        opened_img = current_img\n",
    "        pic_count=0\n",
    "    #crop pic\n",
    "    cropped_img = crop_polygon(img,points)\n",
    "    #save pic\n",
    "    cv2.imwrite(out_path+opened_img+\"_\"+str(pic_count)+\".jpg\",cropped_img)\n",
    "    cut_img.append(opened_img+\"_\"+str(pic_count)+\".jpg\")"
   ]
  },
  {
   "cell_type": "code",
   "execution_count": 7,
   "id": "5ff85eb2",
   "metadata": {},
   "outputs": [
    {
     "data": {
      "text/plain": [
       "['img_7818_0.jpg',\n",
       " 'img_7818_1.jpg',\n",
       " 'img_7818_2.jpg',\n",
       " 'img_7818_3.jpg',\n",
       " 'img_7818_4.jpg',\n",
       " 'img_7818_5.jpg',\n",
       " 'img_7818_6.jpg',\n",
       " 'img_7818_7.jpg',\n",
       " 'img_7818_8.jpg',\n",
       " 'img_7818_9.jpg']"
      ]
     },
     "execution_count": 7,
     "metadata": {},
     "output_type": "execute_result"
    }
   ],
   "source": [
    "cut_img[:10]"
   ]
  },
  {
   "cell_type": "code",
   "execution_count": 8,
   "id": "ff9bbac5",
   "metadata": {},
   "outputs": [
    {
     "data": {
      "text/html": [
       "<div>\n",
       "<style scoped>\n",
       "    .dataframe tbody tr th:only-of-type {\n",
       "        vertical-align: middle;\n",
       "    }\n",
       "\n",
       "    .dataframe tbody tr th {\n",
       "        vertical-align: top;\n",
       "    }\n",
       "\n",
       "    .dataframe thead th {\n",
       "        text-align: right;\n",
       "    }\n",
       "</style>\n",
       "<table border=\"1\" class=\"dataframe\">\n",
       "  <thead>\n",
       "    <tr style=\"text-align: right;\">\n",
       "      <th></th>\n",
       "      <th>imgs</th>\n",
       "      <th>ids</th>\n",
       "      <th>pt1</th>\n",
       "      <th>pt2</th>\n",
       "      <th>pt3</th>\n",
       "      <th>pt4</th>\n",
       "      <th>pt5</th>\n",
       "      <th>pt6</th>\n",
       "      <th>pt7</th>\n",
       "      <th>pt8</th>\n",
       "      <th>labels</th>\n",
       "    </tr>\n",
       "  </thead>\n",
       "  <tbody>\n",
       "    <tr>\n",
       "      <th>0</th>\n",
       "      <td>img_7818_0.jpg</td>\n",
       "      <td>1</td>\n",
       "      <td>267</td>\n",
       "      <td>1107</td>\n",
       "      <td>354</td>\n",
       "      <td>1104</td>\n",
       "      <td>347</td>\n",
       "      <td>1202</td>\n",
       "      <td>258</td>\n",
       "      <td>1203</td>\n",
       "      <td>多</td>\n",
       "    </tr>\n",
       "    <tr>\n",
       "      <th>1</th>\n",
       "      <td>img_7818_1.jpg</td>\n",
       "      <td>1</td>\n",
       "      <td>359</td>\n",
       "      <td>1105</td>\n",
       "      <td>442</td>\n",
       "      <td>1100</td>\n",
       "      <td>433</td>\n",
       "      <td>1197</td>\n",
       "      <td>350</td>\n",
       "      <td>1200</td>\n",
       "      <td>多</td>\n",
       "    </tr>\n",
       "    <tr>\n",
       "      <th>2</th>\n",
       "      <td>img_7818_2.jpg</td>\n",
       "      <td>1</td>\n",
       "      <td>443</td>\n",
       "      <td>1102</td>\n",
       "      <td>530</td>\n",
       "      <td>1096</td>\n",
       "      <td>525</td>\n",
       "      <td>1194</td>\n",
       "      <td>434</td>\n",
       "      <td>1199</td>\n",
       "      <td>選</td>\n",
       "    </tr>\n",
       "    <tr>\n",
       "      <th>3</th>\n",
       "      <td>img_7818_3.jpg</td>\n",
       "      <td>1</td>\n",
       "      <td>529</td>\n",
       "      <td>1098</td>\n",
       "      <td>620</td>\n",
       "      <td>1093</td>\n",
       "      <td>617</td>\n",
       "      <td>1192</td>\n",
       "      <td>524</td>\n",
       "      <td>1194</td>\n",
       "      <td>物</td>\n",
       "    </tr>\n",
       "    <tr>\n",
       "      <th>4</th>\n",
       "      <td>img_7818_4.jpg</td>\n",
       "      <td>1</td>\n",
       "      <td>624</td>\n",
       "      <td>1094</td>\n",
       "      <td>714</td>\n",
       "      <td>1090</td>\n",
       "      <td>711</td>\n",
       "      <td>1192</td>\n",
       "      <td>618</td>\n",
       "      <td>1190</td>\n",
       "      <td>販</td>\n",
       "    </tr>\n",
       "  </tbody>\n",
       "</table>\n",
       "</div>"
      ],
      "text/plain": [
       "             imgs  ids  pt1   pt2  pt3   pt4  pt5   pt6  pt7   pt8 labels\n",
       "0  img_7818_0.jpg    1  267  1107  354  1104  347  1202  258  1203      多\n",
       "1  img_7818_1.jpg    1  359  1105  442  1100  433  1197  350  1200      多\n",
       "2  img_7818_2.jpg    1  443  1102  530  1096  525  1194  434  1199      選\n",
       "3  img_7818_3.jpg    1  529  1098  620  1093  617  1192  524  1194      物\n",
       "4  img_7818_4.jpg    1  624  1094  714  1090  711  1192  618  1190      販"
      ]
     },
     "execution_count": 8,
     "metadata": {},
     "output_type": "execute_result"
    }
   ],
   "source": [
    "df.imgs = cut_img\n",
    "df.head()"
   ]
  },
  {
   "cell_type": "code",
   "execution_count": 9,
   "id": "a92c66cb",
   "metadata": {},
   "outputs": [
    {
     "data": {
      "text/plain": [
       "imgs      0\n",
       "ids       0\n",
       "pt1       0\n",
       "pt2       0\n",
       "pt3       0\n",
       "pt4       0\n",
       "pt5       0\n",
       "pt6       0\n",
       "pt7       0\n",
       "pt8       0\n",
       "labels    4\n",
       "dtype: int64"
      ]
     },
     "execution_count": 9,
     "metadata": {},
     "output_type": "execute_result"
    }
   ],
   "source": [
    "df.isna().sum()"
   ]
  },
  {
   "cell_type": "code",
   "execution_count": 10,
   "id": "628635ae",
   "metadata": {},
   "outputs": [],
   "source": [
    "df.to_csv(dataset_path+\"labels.csv\",encoding=\"utf8\",index=False)"
   ]
  },
  {
   "cell_type": "code",
   "execution_count": null,
   "id": "31bafcc3",
   "metadata": {},
   "outputs": [],
   "source": []
  }
 ],
 "metadata": {
  "kernelspec": {
   "display_name": "Python 3 (ipykernel)",
   "language": "python",
   "name": "python3"
  },
  "language_info": {
   "codemirror_mode": {
    "name": "ipython",
    "version": 3
   },
   "file_extension": ".py",
   "mimetype": "text/x-python",
   "name": "python",
   "nbconvert_exporter": "python",
   "pygments_lexer": "ipython3",
   "version": "3.7.3"
  }
 },
 "nbformat": 4,
 "nbformat_minor": 5
}
