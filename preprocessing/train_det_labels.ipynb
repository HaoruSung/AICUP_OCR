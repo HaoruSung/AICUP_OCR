{
 "cells": [
  {
   "cell_type": "code",
   "execution_count": 1,
   "id": "f18c22bb",
   "metadata": {},
   "outputs": [
    {
     "name": "stderr",
     "output_type": "stream",
     "text": [
      "/home/mark/Desktop/py3.7/cv/paddleOCR/lib/python3.7/site-packages/pandas/compat/__init__.py:124: UserWarning: Could not import the lzma module. Your installed Python is incomplete. Attempting to use lzma compression will result in a RuntimeError.\n",
      "  warnings.warn(msg)\n"
     ]
    }
   ],
   "source": [
    "import os\n",
    "import cv2\n",
    "import numpy as np\n",
    "import pandas as pd\n",
    "import json\n",
    "import re\n",
    "import random\n",
    "from matplotlib import pyplot as plt\n",
    "#{\"None\":0,\"zh_char\":1,\"zh_str\":2,\"en\":3,\"zh_en\":4}"
   ]
  },
  {
   "cell_type": "code",
   "execution_count": 2,
   "id": "c539b217",
   "metadata": {},
   "outputs": [],
   "source": [
    "dataset_path = \"/home/mark/Desktop/py3.7/cv/datasets/ai_cup_f/\""
   ]
  },
  {
   "cell_type": "code",
   "execution_count": 48,
   "id": "83618670",
   "metadata": {},
   "outputs": [
    {
     "data": {
      "text/html": [
       "<div>\n",
       "<style scoped>\n",
       "    .dataframe tbody tr th:only-of-type {\n",
       "        vertical-align: middle;\n",
       "    }\n",
       "\n",
       "    .dataframe tbody tr th {\n",
       "        vertical-align: top;\n",
       "    }\n",
       "\n",
       "    .dataframe thead th {\n",
       "        text-align: right;\n",
       "    }\n",
       "</style>\n",
       "<table border=\"1\" class=\"dataframe\">\n",
       "  <thead>\n",
       "    <tr style=\"text-align: right;\">\n",
       "      <th></th>\n",
       "      <th>imgs</th>\n",
       "      <th>pt1</th>\n",
       "      <th>pt2</th>\n",
       "      <th>pt3</th>\n",
       "      <th>pt4</th>\n",
       "      <th>pt5</th>\n",
       "      <th>pt6</th>\n",
       "      <th>pt7</th>\n",
       "      <th>pt8</th>\n",
       "      <th>labels</th>\n",
       "    </tr>\n",
       "  </thead>\n",
       "  <tbody>\n",
       "    <tr>\n",
       "      <th>0</th>\n",
       "      <td>gt_1234</td>\n",
       "      <td>45</td>\n",
       "      <td>272</td>\n",
       "      <td>215</td>\n",
       "      <td>273</td>\n",
       "      <td>212</td>\n",
       "      <td>296</td>\n",
       "      <td>45</td>\n",
       "      <td>290</td>\n",
       "      <td>一站式购物中心</td>\n",
       "    </tr>\n",
       "    <tr>\n",
       "      <th>1</th>\n",
       "      <td>gt_1234</td>\n",
       "      <td>33</td>\n",
       "      <td>325</td>\n",
       "      <td>204</td>\n",
       "      <td>328</td>\n",
       "      <td>202</td>\n",
       "      <td>363</td>\n",
       "      <td>31</td>\n",
       "      <td>357</td>\n",
       "      <td>母婴百汇</td>\n",
       "    </tr>\n",
       "    <tr>\n",
       "      <th>2</th>\n",
       "      <td>gt_1234</td>\n",
       "      <td>25</td>\n",
       "      <td>359</td>\n",
       "      <td>71</td>\n",
       "      <td>364</td>\n",
       "      <td>70</td>\n",
       "      <td>385</td>\n",
       "      <td>25</td>\n",
       "      <td>382</td>\n",
       "      <td>TEL:</td>\n",
       "    </tr>\n",
       "    <tr>\n",
       "      <th>3</th>\n",
       "      <td>gt_1234</td>\n",
       "      <td>72</td>\n",
       "      <td>362</td>\n",
       "      <td>197</td>\n",
       "      <td>365</td>\n",
       "      <td>197</td>\n",
       "      <td>388</td>\n",
       "      <td>72</td>\n",
       "      <td>384</td>\n",
       "      <td>8168886</td>\n",
       "    </tr>\n",
       "    <tr>\n",
       "      <th>4</th>\n",
       "      <td>gt_1234</td>\n",
       "      <td>649</td>\n",
       "      <td>317</td>\n",
       "      <td>665</td>\n",
       "      <td>317</td>\n",
       "      <td>662</td>\n",
       "      <td>331</td>\n",
       "      <td>648</td>\n",
       "      <td>331</td>\n",
       "      <td>方</td>\n",
       "    </tr>\n",
       "  </tbody>\n",
       "</table>\n",
       "</div>"
      ],
      "text/plain": [
       "      imgs  pt1  pt2  pt3  pt4  pt5  pt6  pt7  pt8   labels\n",
       "0  gt_1234   45  272  215  273  212  296   45  290  一站式购物中心\n",
       "1  gt_1234   33  325  204  328  202  363   31  357     母婴百汇\n",
       "2  gt_1234   25  359   71  364   70  385   25  382     TEL:\n",
       "3  gt_1234   72  362  197  365  197  388   72  384  8168886\n",
       "4  gt_1234  649  317  665  317  662  331  648  331        方"
      ]
     },
     "execution_count": 48,
     "metadata": {},
     "output_type": "execute_result"
    }
   ],
   "source": [
    "df = pd.read_csv(dataset_path+\"lsvt_max_bound.csv\",encoding=\"utf8\")\n",
    "df.head()"
   ]
  },
  {
   "cell_type": "code",
   "execution_count": 49,
   "id": "7b79e883",
   "metadata": {},
   "outputs": [],
   "source": [
    "df = df.fillna(\"###\")"
   ]
  },
  {
   "cell_type": "markdown",
   "id": "5fc52c0d",
   "metadata": {},
   "source": [
    "### 去除###的資料"
   ]
  },
  {
   "cell_type": "code",
   "execution_count": 50,
   "id": "ee8bc552",
   "metadata": {},
   "outputs": [
    {
     "data": {
      "text/plain": [
       "241855"
      ]
     },
     "execution_count": 50,
     "metadata": {},
     "output_type": "execute_result"
    }
   ],
   "source": [
    "non_empty = df[df[\"labels\"]!=\"###\"]\n",
    "len(non_empty)"
   ]
  },
  {
   "cell_type": "code",
   "execution_count": 51,
   "id": "97052650",
   "metadata": {},
   "outputs": [
    {
     "name": "stdout",
     "output_type": "stream",
     "text": [
      "241855\n"
     ]
    }
   ],
   "source": [
    "l = []\n",
    "for elem in non_empty.labels:\n",
    "    l.append(len(elem))\n",
    "print(len(l))"
   ]
  },
  {
   "cell_type": "code",
   "execution_count": 52,
   "id": "9d5030db",
   "metadata": {},
   "outputs": [
    {
     "data": {
      "text/plain": [
       "{'1': 26658,\n",
       " '2': 40072,\n",
       " '3': 30063,\n",
       " '4': 43857,\n",
       " '5': 18299,\n",
       " '6': 15249,\n",
       " '7': 11109,\n",
       " '8': 8302,\n",
       " '9': 6224,\n",
       " '10': 5504,\n",
       " '11': 6994,\n",
       " '12': 3961,\n",
       " '13': 3242,\n",
       " '14': 4743,\n",
       " '15': 2352,\n",
       " '16': 2208,\n",
       " '17': 1492,\n",
       " '18': 1117,\n",
       " '19': 991,\n",
       " '20': 832,\n",
       " '21': 743,\n",
       " '22': 672,\n",
       " '23': 729,\n",
       " '24': 547,\n",
       " '25': 527,\n",
       " '26': 818,\n",
       " '27': 488,\n",
       " '28': 446,\n",
       " '29': 323,\n",
       " '30': 291,\n",
       " '31': 273,\n",
       " '32': 256,\n",
       " '33': 222,\n",
       " '34': 219,\n",
       " '35': 188,\n",
       " '36': 181,\n",
       " '37': 142,\n",
       " '38': 151,\n",
       " '39': 172,\n",
       " '40': 105,\n",
       " '41': 104,\n",
       " '42': 85,\n",
       " '43': 88,\n",
       " '44': 100,\n",
       " '45': 73,\n",
       " '46': 69,\n",
       " '47': 51,\n",
       " '48': 65,\n",
       " '49': 58,\n",
       " '50': 39,\n",
       " '51': 41,\n",
       " '52': 38,\n",
       " '53': 30,\n",
       " '54': 33,\n",
       " '55': 10,\n",
       " '56': 25,\n",
       " '57': 18,\n",
       " '58': 25,\n",
       " '59': 13,\n",
       " '60': 15,\n",
       " '61': 5,\n",
       " '62': 16,\n",
       " '63': 11,\n",
       " '64': 4,\n",
       " '65': 10,\n",
       " '66': 14,\n",
       " '67': 4,\n",
       " '68': 6,\n",
       " '69': 5,\n",
       " '70': 4,\n",
       " '71': 9,\n",
       " '72': 3,\n",
       " '73': 5,\n",
       " '74': 2,\n",
       " '75': 2,\n",
       " '76': 6,\n",
       " '80': 2,\n",
       " '83': 1,\n",
       " '85': 1,\n",
       " '90': 1,\n",
       " '92': 1,\n",
       " '94': 1}"
      ]
     },
     "execution_count": 52,
     "metadata": {},
     "output_type": "execute_result"
    }
   ],
   "source": [
    "#觀察labels分佈\n",
    "str_count = {}\n",
    "for elem in list(set(l)):\n",
    "    str_count[str(elem)] = l.count(elem)\n",
    "str_count"
   ]
  },
  {
   "cell_type": "code",
   "execution_count": 53,
   "id": "925b603c",
   "metadata": {},
   "outputs": [
    {
     "data": {
      "text/plain": [
       "29990"
      ]
     },
     "execution_count": 53,
     "metadata": {},
     "output_type": "execute_result"
    }
   ],
   "source": [
    "#set random to train split\n",
    "x = (non_empty.imgs.unique())\n",
    "len(x)"
   ]
  },
  {
   "cell_type": "markdown",
   "id": "b3796386",
   "metadata": {},
   "source": [
    "### 設定要不要分train,test"
   ]
  },
  {
   "cell_type": "code",
   "execution_count": 59,
   "id": "400d2c04",
   "metadata": {},
   "outputs": [],
   "source": [
    "# train = non_empty\n",
    "# test=[]"
   ]
  },
  {
   "cell_type": "code",
   "execution_count": 54,
   "id": "3ce5ecf4",
   "metadata": {},
   "outputs": [
    {
     "data": {
      "text/plain": [
       "array(['gt_2638', 'gt_18842', 'gt_7600', 'gt_9029', 'gt_14265', 'gt_6721',\n",
       "       'gt_20529', 'gt_9783', 'gt_25244', 'gt_17244'], dtype=object)"
      ]
     },
     "execution_count": 54,
     "metadata": {},
     "output_type": "execute_result"
    }
   ],
   "source": [
    "# from sklearn.model_selection import train_test_split\n",
    "\n",
    "# train, test = train_test_split(x, test_size=0.2,random_state=69)\n",
    "# test[:10]"
   ]
  },
  {
   "cell_type": "code",
   "execution_count": 57,
   "id": "a9128f40",
   "metadata": {},
   "outputs": [],
   "source": [
    "#test = test.tolist()"
   ]
  },
  {
   "cell_type": "code",
   "execution_count": 60,
   "id": "46028e78",
   "metadata": {},
   "outputs": [],
   "source": [
    "out_f = open(dataset_path+\"/train_det_max/train_det_labels1.txt\",\"a\",encoding=\"utf8\")#a持續寫下去 w覆寫\n",
    "out_f1 = open(dataset_path+\"/train_det_max/test_det_labels1.txt\",\"a\",encoding=\"utf8\")\n",
    "lst=[]\n",
    "#save_lst=[]\n",
    "previous_label = None\n",
    "for index, row in non_empty.iterrows():\n",
    "    pts = [[row['pt1'],row['pt2']],[row['pt3'],row['pt4']],[row['pt5'],row['pt6']],[row['pt7'],row['pt8']]]\n",
    "    out_dic = {\"transcription\":row[\"labels\"],\"points\":pts}\n",
    "    if previous_label:\n",
    "        if previous_label != row[\"imgs\"]:\n",
    "            if previous_label in test:#確認資料屬於test or train \n",
    "                out_f1.write(\"./lsvt/\"+previous_label+\".jpg\\t\"+json.dumps(lst,ensure_ascii=False)+'\\n')#存前一張圖的檔\n",
    "                previous_label= row[\"imgs\"] \n",
    "                lst = [] #empty list\n",
    "            else:\n",
    "                out_f.write(\"./lsvt/\"+previous_label+\".jpg\\t\"+json.dumps(lst,ensure_ascii=False)+'\\n')#存前一張圖的檔\n",
    "                previous_label= row[\"imgs\"] \n",
    "                lst = [] #empty list\n",
    "    else:\n",
    "        previous_label= row[\"imgs\"]\n",
    "    lst.append(out_dic)\n",
    "out_f.close()\n",
    "out_f1.close()"
   ]
  },
  {
   "cell_type": "code",
   "execution_count": null,
   "id": "497489d2",
   "metadata": {},
   "outputs": [],
   "source": []
  }
 ],
 "metadata": {
  "kernelspec": {
   "display_name": "Python 3 (ipykernel)",
   "language": "python",
   "name": "python3"
  },
  "language_info": {
   "codemirror_mode": {
    "name": "ipython",
    "version": 3
   },
   "file_extension": ".py",
   "mimetype": "text/x-python",
   "name": "python",
   "nbconvert_exporter": "python",
   "pygments_lexer": "ipython3",
   "version": "3.7.3"
  }
 },
 "nbformat": 4,
 "nbformat_minor": 5
}
