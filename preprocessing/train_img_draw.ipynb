{
 "cells": [
  {
   "cell_type": "code",
   "execution_count": 32,
   "id": "8ee9b205",
   "metadata": {},
   "outputs": [],
   "source": [
    "import os\n",
    "import cv2\n",
    "import numpy as np\n",
    "import pandas as pd\n",
    "import random"
   ]
  },
  {
   "cell_type": "code",
   "execution_count": 36,
   "id": "4cbaee4e",
   "metadata": {},
   "outputs": [],
   "source": [
    "#directory must contain public foler\n",
    "dataset_path = \"/home/mark/Desktop/py3.7/cv/datasets/ai_cup_f/\"\n",
    "img_path=dataset_path+\"train/lsvt/\"\n",
    "#where you save img\n",
    "out_path= dataset_path+\"lsvt_draw/\""
   ]
  },
  {
   "cell_type": "code",
   "execution_count": 37,
   "id": "1a96bdcf",
   "metadata": {},
   "outputs": [],
   "source": [
    "# read csv \"df as dataframe\"\n",
    "df = pd.read_csv(dataset_path+\"lsvt.csv\",)"
   ]
  },
  {
   "cell_type": "code",
   "execution_count": 42,
   "id": "ecfd1bbf",
   "metadata": {},
   "outputs": [
    {
     "name": "stdout",
     "output_type": "stream",
     "text": [
      "imgs      0\n",
      "pt1       0\n",
      "pt2       0\n",
      "pt3       0\n",
      "pt4       0\n",
      "pt5       0\n",
      "pt6       0\n",
      "pt7       0\n",
      "pt8       0\n",
      "labels    6\n",
      "dtype: int64\n"
     ]
    },
    {
     "data": {
      "text/html": [
       "<div>\n",
       "<style scoped>\n",
       "    .dataframe tbody tr th:only-of-type {\n",
       "        vertical-align: middle;\n",
       "    }\n",
       "\n",
       "    .dataframe tbody tr th {\n",
       "        vertical-align: top;\n",
       "    }\n",
       "\n",
       "    .dataframe thead th {\n",
       "        text-align: right;\n",
       "    }\n",
       "</style>\n",
       "<table border=\"1\" class=\"dataframe\">\n",
       "  <thead>\n",
       "    <tr style=\"text-align: right;\">\n",
       "      <th></th>\n",
       "      <th>imgs</th>\n",
       "      <th>pt1</th>\n",
       "      <th>pt2</th>\n",
       "      <th>pt3</th>\n",
       "      <th>pt4</th>\n",
       "      <th>pt5</th>\n",
       "      <th>pt6</th>\n",
       "      <th>pt7</th>\n",
       "      <th>pt8</th>\n",
       "      <th>labels</th>\n",
       "    </tr>\n",
       "  </thead>\n",
       "  <tbody>\n",
       "    <tr>\n",
       "      <th>0</th>\n",
       "      <td>gt_1234</td>\n",
       "      <td>45</td>\n",
       "      <td>272</td>\n",
       "      <td>215</td>\n",
       "      <td>273</td>\n",
       "      <td>212</td>\n",
       "      <td>296</td>\n",
       "      <td>45</td>\n",
       "      <td>290</td>\n",
       "      <td>一站式购物中心</td>\n",
       "    </tr>\n",
       "    <tr>\n",
       "      <th>1</th>\n",
       "      <td>gt_1234</td>\n",
       "      <td>33</td>\n",
       "      <td>325</td>\n",
       "      <td>204</td>\n",
       "      <td>328</td>\n",
       "      <td>202</td>\n",
       "      <td>363</td>\n",
       "      <td>31</td>\n",
       "      <td>357</td>\n",
       "      <td>母婴百汇</td>\n",
       "    </tr>\n",
       "    <tr>\n",
       "      <th>2</th>\n",
       "      <td>gt_1234</td>\n",
       "      <td>25</td>\n",
       "      <td>359</td>\n",
       "      <td>71</td>\n",
       "      <td>364</td>\n",
       "      <td>70</td>\n",
       "      <td>385</td>\n",
       "      <td>25</td>\n",
       "      <td>382</td>\n",
       "      <td>TEL:</td>\n",
       "    </tr>\n",
       "    <tr>\n",
       "      <th>3</th>\n",
       "      <td>gt_1234</td>\n",
       "      <td>72</td>\n",
       "      <td>362</td>\n",
       "      <td>197</td>\n",
       "      <td>365</td>\n",
       "      <td>197</td>\n",
       "      <td>388</td>\n",
       "      <td>72</td>\n",
       "      <td>384</td>\n",
       "      <td>8168886</td>\n",
       "    </tr>\n",
       "    <tr>\n",
       "      <th>5</th>\n",
       "      <td>gt_1234</td>\n",
       "      <td>649</td>\n",
       "      <td>317</td>\n",
       "      <td>665</td>\n",
       "      <td>317</td>\n",
       "      <td>662</td>\n",
       "      <td>331</td>\n",
       "      <td>648</td>\n",
       "      <td>331</td>\n",
       "      <td>方</td>\n",
       "    </tr>\n",
       "  </tbody>\n",
       "</table>\n",
       "</div>"
      ],
      "text/plain": [
       "      imgs  pt1  pt2  pt3  pt4  pt5  pt6  pt7  pt8   labels\n",
       "0  gt_1234   45  272  215  273  212  296   45  290  一站式购物中心\n",
       "1  gt_1234   33  325  204  328  202  363   31  357     母婴百汇\n",
       "2  gt_1234   25  359   71  364   70  385   25  382     TEL:\n",
       "3  gt_1234   72  362  197  365  197  388   72  384  8168886\n",
       "5  gt_1234  649  317  665  317  662  331  648  331        方"
      ]
     },
     "execution_count": 42,
     "metadata": {},
     "output_type": "execute_result"
    }
   ],
   "source": [
    "df1 = df.fillna(\"###\")\n",
    "print(df.isna().sum())\n",
    "df = df1[df1.labels !=\"###\"]\n",
    "df.head()"
   ]
  },
  {
   "cell_type": "code",
   "execution_count": 38,
   "id": "1e06ff5f",
   "metadata": {},
   "outputs": [
    {
     "name": "stdout",
     "output_type": "stream",
     "text": [
      "<class 'pandas.core.frame.DataFrame'>\n",
      "RangeIndex: 382606 entries, 0 to 382605\n",
      "Data columns (total 10 columns):\n",
      " #   Column  Non-Null Count   Dtype \n",
      "---  ------  --------------   ----- \n",
      " 0   imgs    382606 non-null  object\n",
      " 1   pt1     382606 non-null  int64 \n",
      " 2   pt2     382606 non-null  int64 \n",
      " 3   pt3     382606 non-null  int64 \n",
      " 4   pt4     382606 non-null  int64 \n",
      " 5   pt5     382606 non-null  int64 \n",
      " 6   pt6     382606 non-null  int64 \n",
      " 7   pt7     382606 non-null  int64 \n",
      " 8   pt8     382606 non-null  int64 \n",
      " 9   labels  382600 non-null  object\n",
      "dtypes: int64(8), object(2)\n",
      "memory usage: 29.2+ MB\n"
     ]
    }
   ],
   "source": [
    "df.info()"
   ]
  },
  {
   "cell_type": "code",
   "execution_count": 43,
   "id": "3fab4377",
   "metadata": {
    "scrolled": false
   },
   "outputs": [],
   "source": [
    "# opened_img = None\n",
    "# img = None\n",
    "# same_pic_count=0\n",
    "# for index, row in df.iterrows():\n",
    "#     color = (0,0,255)#set first line color in red\n",
    "#     current_img = df.imgs[index]+\".jpg\"#get file name\n",
    "#     points = [[row[\"pt\"+str(x)],row[\"pt\"+str(x+1)]] for x in range(1,9,2)]#get position data\n",
    "#     points = np.array(points, np.int32)#turn points into np.array\n",
    "#     if current_img == opened_img:#if same pics\n",
    "#         same_pic_count+=1\n",
    "#         random.seed(same_pic_count)\n",
    "#         color = (random.randint(0,255),random.randint(0,255),random.randint(0,255))#change color\n",
    "#         cv2.polylines(img, pts=[points], isClosed=True, color=color, thickness=3)#draw polylines\n",
    "#         continue\n",
    "#     else:# if new pic\n",
    "#         if opened_img:\n",
    "#             cv2.imwrite(out_path+opened_img, img)#save original img to path\n",
    "#         same_pic_count= 0\n",
    "#         img = cv2.imread(img_path+current_img)#read new img \n",
    "#         opened_img = current_img\n",
    "#         cv2.polylines(img, pts=[points], isClosed=True, color=color, thickness=3)   #draw polylines"
   ]
  },
  {
   "cell_type": "code",
   "execution_count": null,
   "id": "b7de8ebf",
   "metadata": {},
   "outputs": [],
   "source": []
  }
 ],
 "metadata": {
  "kernelspec": {
   "display_name": "Python 3 (ipykernel)",
   "language": "python",
   "name": "python3"
  },
  "language_info": {
   "codemirror_mode": {
    "name": "ipython",
    "version": 3
   },
   "file_extension": ".py",
   "mimetype": "text/x-python",
   "name": "python",
   "nbconvert_exporter": "python",
   "pygments_lexer": "ipython3",
   "version": "3.7.3"
  }
 },
 "nbformat": 4,
 "nbformat_minor": 5
}
